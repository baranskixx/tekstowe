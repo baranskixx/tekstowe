{
 "cells": [
  {
   "cell_type": "code",
   "execution_count": 12,
   "id": "e966f318",
   "metadata": {},
   "outputs": [],
   "source": [
    "import re\n",
    "import time\n",
    "import string"
   ]
  },
  {
   "cell_type": "markdown",
   "id": "da554add",
   "metadata": {},
   "source": [
    "## Textual algorithms - lab01"
   ]
  },
  {
   "cell_type": "markdown",
   "id": "57ab340e",
   "metadata": {},
   "source": [
    "### used algorithms"
   ]
  },
  {
   "cell_type": "markdown",
   "id": "58e86296",
   "metadata": {},
   "source": [
    "#### naive algorithm\n"
   ]
  },
  {
   "cell_type": "code",
   "execution_count": 13,
   "id": "fa65f573",
   "metadata": {},
   "outputs": [],
   "source": [
    "def find_pattern_naive(text:string, pattern:string):\n",
    "    # lets find all corrects shifts\n",
    "    result = []\n",
    "\n",
    "    for s in range(0, len(text) - len(pattern) + 1):\n",
    "        if pattern == text[s:s+len(pattern)]:\n",
    "            result.append(s)\n",
    "    \n",
    "    return result"
   ]
  },
  {
   "cell_type": "markdown",
   "id": "bdbca114",
   "metadata": {},
   "source": [
    "#### kmp\n"
   ]
  },
  {
   "cell_type": "code",
   "execution_count": 14,
   "id": "c51845cd",
   "metadata": {},
   "outputs": [],
   "source": [
    "def prefix_function(pattern:string):\n",
    "    lps = [0] * len(pattern)\n",
    "    l = 0\n",
    "    i = 1\n",
    "\n",
    "    while i < len(pattern):\n",
    "        while l > 0 and pattern[i] != pattern[l]:\n",
    "            l -= 1\n",
    "        \n",
    "        if pattern[i] == pattern[l]:\n",
    "            l += 1\n",
    "            \n",
    "        lps[i] = l\n",
    "        i += 1\n",
    "    \n",
    "    return lps\n",
    "\n",
    "def find_pattern_kmp(text:string, pattern:string):\n",
    "    lps = prefix_function(pattern)\n",
    "    result = []\n",
    "    i = 0\n",
    "    j = 0\n",
    "\n",
    "    while i < len(text):\n",
    "        if text[i] != pattern[j]:\n",
    "            if j > 0:\n",
    "                j = lps[j-1]\n",
    "            else:\n",
    "                i += 1\n",
    "        else:\n",
    "            i, j = i+1, j+1\n",
    "            if j == len(pattern):\n",
    "                result.append(i-j)\n",
    "                j = lps[j-1]\n",
    "    \n",
    "    return result"
   ]
  },
  {
   "cell_type": "markdown",
   "id": "1e1cb0a0",
   "metadata": {},
   "source": [
    "#### finite automaton"
   ]
  },
  {
   "cell_type": "code",
   "execution_count": 15,
   "id": "e1db0049",
   "metadata": {},
   "outputs": [],
   "source": [
    "def transition_table(pattern:string):\n",
    "    result = []\n",
    "    alphabet = set()\n",
    "    \n",
    "    for a in pattern:\n",
    "        alphabet.add(a)\n",
    "    \n",
    "    for q in range(len(pattern) + 1):\n",
    "        result.append({})\n",
    "        for a in alphabet:\n",
    "            k = min(len(pattern), q+1)\n",
    "            suffix = pattern[:q] + a\n",
    "            while pattern[:k] != \"\" and pattern[:k] != suffix[q - k + 1:]:\n",
    "                k -= 1\n",
    "            result[q][a] = k\n",
    "    return result\n",
    "\n",
    "def find_pattern_finite_automaton(text:string, pattern:string):\n",
    "    q = 0\n",
    "    delta = transition_table(pattern)\n",
    "    result = []\n",
    "    for s in range(0, len(text)):\n",
    "        if text[s] in delta[q]:\n",
    "            q = delta[q][text[s]]\n",
    "            if q == len(delta) - 1:\n",
    "                result.append(s + 1 - q)\n",
    "        else:\n",
    "            q = 0\n",
    "    \n",
    "    return result"
   ]
  },
  {
   "cell_type": "markdown",
   "id": "90d710c9",
   "metadata": {},
   "source": [
    "### find word \"art\" in given file"
   ]
  },
  {
   "cell_type": "code",
   "execution_count": 28,
   "id": "a3b2c623",
   "metadata": {},
   "outputs": [
    {
     "name": "stdout",
     "output_type": "stream",
     "text": [
      "Each of the algorithms gave the same result! (good one hopefully)\n",
      "[1156, 1505, 4692, 4734, 4879, 5082, 5148, 5949, 6039, 7266, 7511, 7781, 8044, 8299, 9104, 9959, 10022, 10224, 11122, 11207, 11618, 13194, 15284, 15358, 16092, 16261, 16406, 16547, 16616, 16840, 16856, 23637, 24061, 24152, 24586, 24683, 24780, 24931, 25530, 25689, 27001, 27288, 27479, 27542, 27592, 27857, 28373, 28558, 28766, 30964, 31021, 31096, 31362, 31811, 32609, 32968, 33053, 33268, 33595, 34651, 34737, 35511, 36155, 37143, 37543, 38451, 38595, 39056, 39210, 39436, 39568, 39980, 41152, 41829, 42028, 42198, 42371, 42504, 42718, 42896, 42941, 43447, 43555, 43787, 44590, 44653, 44953, 45010, 45293, 45401, 47319, 47422, 48785, 48820, 48906, 49052, 49259, 49316, 49488, 49559, 49915, 49979, 50102, 50160, 50702, 51050, 51179, 51966, 52071, 52272, 52552, 53008, 53032, 53211, 53788, 53931, 54078, 54137, 54770, 55075, 55279, 55465, 55807, 55991, 56827, 56911, 57164, 57549, 57800, 57932, 57989, 58280, 58378, 58874, 58966, 59395, 59523, 59949, 60296, 60549, 60794, 61262, 61770, 62463, 62610, 62663, 63504, 63698, 63789, 63869, 65075, 65114, 65176, 66024, 66330, 66982, 67056, 67578, 67695, 67720, 67852, 67926, 68226, 68854, 69046, 69172, 69249, 69604, 69697, 69794, 70109, 70512, 70664, 70698, 71561, 71705, 72106, 72314, 73115, 74253, 75346, 75470, 75486, 75493, 75717, 75803, 75871, 76247, 77030, 78047, 78558, 78872, 78936, 78970, 79091, 79270, 79341, 79410, 79448, 79582, 79822, 79884, 80848, 83234, 84578, 84828, 85834, 86793, 86819, 87093, 87174, 87359, 87399, 87640, 87707, 87947, 88033, 88073, 88136, 88391, 88665, 88940, 89047, 89316, 89325, 89341, 89361, 90167, 90218, 90572, 91682, 91795, 92916, 93366, 93426, 93561, 94603, 94808, 95981, 96120, 97285, 98770, 99825, 102953, 104141, 104723, 105767, 105973, 110186, 115010, 115163, 116109, 144052, 158607, 159478, 161581, 162788, 163969, 168897, 169074, 178453, 185631, 200530, 200628, 202696, 206794, 209181, 211819, 212319, 217444, 217891, 223168, 223252]\n"
     ]
    }
   ],
   "source": [
    "with open('1997_714.txt', 'r', encoding='utf8') as file:\n",
    "    data = file.read()\n",
    "    search_pattern = 'art'\n",
    "    \n",
    "    result_naive      = find_pattern_naive(data, search_pattern)\n",
    "    result_automaton  = find_pattern_finite_automaton(data, search_pattern)\n",
    "    result_kmp        = find_pattern_kmp(data, search_pattern)\n",
    "    \n",
    "    if result_naive == result_automaton and result_naive == result_kmp:\n",
    "        print('Each of the algorithms gave the same result! (good one hopefully)')\n",
    "        print(result_naive)\n",
    "    else:\n",
    "        print('Differents in results!')"
   ]
  },
  {
   "cell_type": "markdown",
   "id": "8101cc32",
   "metadata": {},
   "source": [
    "### compare execution time of algorithms #1"
   ]
  },
  {
   "cell_type": "code",
   "execution_count": 33,
   "id": "7e34b355",
   "metadata": {},
   "outputs": [
    {
     "name": "stdout",
     "output_type": "stream",
     "text": [
      "execution time of naive algorithm: 0.03600740432739258\n",
      "execution time of finite automaton algorithm: 0.01800394058227539\n",
      "execution time of kmp algorithm: 0.036008358001708984\n"
     ]
    }
   ],
   "source": [
    "with open('1997_714.txt', 'r', encoding='utf8') as file:\n",
    "    data = file.read()\n",
    "    search_pattern = 'art'\n",
    "    \n",
    "    time_start = time.time()\n",
    "    find_pattern_naive(data, search_pattern)\n",
    "    time_end   = time.time()\n",
    "    print(f\"execution time of naive algorithm: {time_end - time_start}\")\n",
    "    \n",
    "    time_start = time.time()\n",
    "    find_pattern_finite_automaton(data, search_pattern)\n",
    "    time_end   = time.time()\n",
    "    print(f\"execution time of finite automaton algorithm: {time_end - time_start}\")\n",
    "    \n",
    "    time_start = time.time()\n",
    "    find_pattern_kmp(data, search_pattern)\n",
    "    time_end   = time.time()\n",
    "    print(f\"execution time of kmp algorithm: {time_end - time_start}\")"
   ]
  },
  {
   "cell_type": "markdown",
   "id": "91133269",
   "metadata": {},
   "source": [
    "### compare execution time of algorithms #2"
   ]
  },
  {
   "cell_type": "code",
   "execution_count": 47,
   "id": "789b581d",
   "metadata": {},
   "outputs": [
    {
     "name": "stdout",
     "output_type": "stream",
     "text": [
      "execution time of naive algorithm: 11.864241123199463\n",
      "execution time of finite automaton algorithm: 7.404754400253296\n",
      "execution time of kmp algorithm: 11.223731756210327\n"
     ]
    }
   ],
   "source": [
    "with open('passages-head.tsv', 'r', encoding='utf8') as file:\n",
    "    data = file.read()\n",
    "    search_pattern = 'Ukraina'\n",
    "    \n",
    "    time_start = time.time()\n",
    "    find_pattern_naive(data, search_pattern)\n",
    "    time_end   = time.time()\n",
    "    print(f\"execution time of naive algorithm: {time_end - time_start}\")\n",
    "    \n",
    "    time_start = time.time()\n",
    "    find_pattern_finite_automaton(data, search_pattern)\n",
    "    time_end   = time.time()\n",
    "    print(f\"execution time of finite automaton algorithm: {time_end - time_start}\")\n",
    "    \n",
    "    time_start = time.time()\n",
    "    find_pattern_kmp(data, search_pattern)\n",
    "    time_end   = time.time()\n",
    "    print(f\"execution time of kmp algorithm: {time_end - time_start}\")"
   ]
  },
  {
   "cell_type": "markdown",
   "id": "f14cbe8b",
   "metadata": {},
   "source": [
    "### kmp 5 times faster that automaton (preprocessing)"
   ]
  },
  {
   "cell_type": "code",
   "execution_count": 46,
   "id": "f02ec0a2",
   "metadata": {},
   "outputs": [
    {
     "name": "stdout",
     "output_type": "stream",
     "text": [
      "finite automaton preprocessing time: 0.04200935363769531\n",
      "kmp preprocessing time: 0.0\n"
     ]
    }
   ],
   "source": [
    "pattern = \"Kraków to stolica Polski Perła ukryta we mgle Z najdalszych krain zamorskich Każdy wspomnienia tu śle\"\n",
    "\n",
    "\n",
    "time_start = time.time()\n",
    "transition_table(pattern)\n",
    "time_end   = time.time()\n",
    "print(f\"finite automaton preprocessing time: {time_end - time_start}\")\n",
    "\n",
    "time_start = time.time()\n",
    "prefix_function(pattern)\n",
    "time_end   = time.time()\n",
    "print(f\"kmp preprocessing time: {time_end - time_start}\")\n"
   ]
  },
  {
   "cell_type": "markdown",
   "id": "21764a60",
   "metadata": {},
   "source": [
    "### naive 5 times slower than other algorithms"
   ]
  },
  {
   "cell_type": "code",
   "execution_count": 71,
   "id": "d5c32535",
   "metadata": {},
   "outputs": [
    {
     "name": "stdout",
     "output_type": "stream",
     "text": [
      "finite automaton time: 0.08802270889282227\n",
      "kmp automaton time: 0.16803717613220215\n",
      "naive algorithm time: 0.13402986526489258\n"
     ]
    }
   ],
   "source": [
    "def find_pattern_finite_automaton_time_measure(text:string, pattern:string):\n",
    "    q = 0\n",
    "    delta = transition_table(pattern)\n",
    "    time_start = time.time()\n",
    "    result = []\n",
    "    for s in range(0, len(text)):\n",
    "        if text[s] in delta[q]:\n",
    "            q = delta[q][text[s]]\n",
    "            if q == len(delta) - 1:\n",
    "                result.append(s + 1 - q)\n",
    "        else:\n",
    "            q = 0\n",
    "    time_end  = time.time()\n",
    "    print(f\"finite automaton time: {time_end - time_start}\")\n",
    "    \n",
    "\n",
    "def find_pattern_kmp_time_measure(text:string, pattern:string):\n",
    "    lps = prefix_function(pattern)\n",
    "    result = []\n",
    "    i = 0\n",
    "    j = 0\n",
    "    time_start = time.time()\n",
    "    while i < len(text):\n",
    "        if text[i] != pattern[j]:\n",
    "            if j > 0:\n",
    "                j = lps[j-1]\n",
    "            else:\n",
    "                i += 1\n",
    "        else:\n",
    "            i, j = i+1, j+1\n",
    "            if j == len(pattern):\n",
    "                result.append(i-j)\n",
    "                j = lps[j-1]\n",
    "    time_end  = time.time()\n",
    "    print(f\"kmp automaton time: {time_end - time_start}\")\n",
    "\n",
    "    \n",
    "pattern = \"aaaaaaaaaaaaaaaaaaaaaaaaaaaaaaaaaaaaaaaaa\"*100\n",
    "text = \"aaaaaaaaaaaaaaaaaaaaaaaaaaaaaaaaaaaaaaaaaaaaaaaaaaab\"*10000\n",
    "\n",
    "find_pattern_finite_automaton_time_measure(text, pattern)\n",
    "find_pattern_kmp_time_measure(text, pattern)\n",
    "start_time = time.time()\n",
    "find_pattern_naive(text, pattern)\n",
    "end_time = time.time()\n",
    "print(f\"naive algorithm time: {end_time - start_time}\")"
   ]
  },
  {
   "cell_type": "code",
   "execution_count": null,
   "id": "2fa51e33",
   "metadata": {},
   "outputs": [],
   "source": []
  }
 ],
 "metadata": {
  "kernelspec": {
   "display_name": "Python 3 (ipykernel)",
   "language": "python",
   "name": "python3"
  },
  "language_info": {
   "codemirror_mode": {
    "name": "ipython",
    "version": 3
   },
   "file_extension": ".py",
   "mimetype": "text/x-python",
   "name": "python",
   "nbconvert_exporter": "python",
   "pygments_lexer": "ipython3",
   "version": "3.9.7"
  }
 },
 "nbformat": 4,
 "nbformat_minor": 5
}
