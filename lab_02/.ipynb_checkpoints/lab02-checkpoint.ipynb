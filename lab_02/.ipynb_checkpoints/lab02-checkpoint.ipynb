{
 "cells": [
  {
   "cell_type": "markdown",
   "id": "8a6dc853",
   "metadata": {},
   "source": [
    "# Lab 02 - Trie Tree and Sufix Tree"
   ]
  },
  {
   "cell_type": "markdown",
   "id": "27778255",
   "metadata": {},
   "source": [
    "## Sample data"
   ]
  },
  {
   "cell_type": "markdown",
   "id": "f4ce71ad",
   "metadata": {},
   "source": [
    "Sample input data: \n",
    "* \"bbb$\"\n",
    "* \"aabbabd\"\n",
    "* \"ababcd\"\n",
    "* \"abcbccd\"\n",
    "* 1997_714_head.txt file"
   ]
  },
  {
   "cell_type": "code",
   "execution_count": 2,
   "id": "eb8dbb9e",
   "metadata": {},
   "outputs": [],
   "source": [
    "data_full = ['bbb$', 'aabbabd', 'ababcd', 'abcbccd', \n",
    "             open('1997_714_head.txt', mode='r', encoding='utf-8').read()]"
   ]
  },
  {
   "cell_type": "markdown",
   "id": "5a0c4892",
   "metadata": {},
   "source": [
    "Checking if every dataset has unique character (marker) at it's end. \n",
    "If not - add it."
   ]
  },
  {
   "cell_type": "code",
   "execution_count": 3,
   "id": "56990540",
   "metadata": {},
   "outputs": [],
   "source": [
    "potencial_markers = ['$', '#', '@', '*', '^', '%', '(', ')', '-', '=', '_', '+']\n",
    "\n",
    "for data in data_full:\n",
    "    last_char = data[-1]\n",
    "    n = len(data)\n",
    "    \n",
    "    for i in range(0, n-1):\n",
    "        if last_char == data[i]:\n",
    "            last_char = ''\n",
    "            break\n",
    "    \n",
    "    if last_char == '':\n",
    "        for marker in potencial_markers:\n",
    "            if marker not in data:\n",
    "                data += marker\n",
    "                break\n",
    "        else:\n",
    "            raise Exception(\"No suitable marker found!\")"
   ]
  },
  {
   "cell_type": "markdown",
   "id": "1ee5be9a",
   "metadata": {},
   "source": [
    "## Implementation of trie tree structure"
   ]
  },
  {
   "cell_type": "code",
   "execution_count": 4,
   "id": "8194da14",
   "metadata": {},
   "outputs": [],
   "source": [
    "class trie_node:\n",
    "    def __init__(self, ch = None):\n",
    "        self.char = ch\n",
    "        self.children = {}\n",
    "    \n",
    "    def create_path(self, text, index):\n",
    "        if index == len(text):\n",
    "            return\n",
    "        elif text[index] not in self.children.keys():\n",
    "            self.children[text[index]] = trie_node(text[index])\n",
    "        self.children[text[index]].create_path(text, index + 1)\n",
    "    \n",
    "    def search(self, text, index):\n",
    "        if len(text) == index:\n",
    "            return True\n",
    "        \n",
    "        if text[index] in self.children.keys():\n",
    "            return self.children[text[index]].search(text, index+1)\n",
    "        return False\n",
    "    \n",
    "class trie_tree:\n",
    "    def __init__(self, text):\n",
    "        self.root = trie_node()\n",
    "        for i in range(len(text)):\n",
    "            self.root.create_path(text, i)\n",
    "    \n",
    "    def find_occurence(self, s):\n",
    "        return self.root.search(s, 0)"
   ]
  },
  {
   "cell_type": "code",
   "execution_count": 5,
   "id": "b1ddc4a5",
   "metadata": {},
   "outputs": [],
   "source": [
    "d1_tree = trie_tree(data_full[0])\n",
    "d2_tree = trie_tree(data_full[1])\n",
    "d3_tree = trie_tree(data_full[2])\n",
    "d4_tree = trie_tree(data_full[3])\n",
    "d5_tree = trie_tree(data_full[4])"
   ]
  },
  {
   "cell_type": "code",
   "execution_count": 6,
   "id": "6f6a6833",
   "metadata": {},
   "outputs": [],
   "source": [
    "class sufix_edge:\n",
    "    def __init__(self, p, q):\n",
    "        self.start_ = p\n",
    "        self.end_   = q\n",
    "\n",
    "class sufix_node:\n",
    "    def __init__(self):\n",
    "        self.children = {}\n",
    "    \n",
    "    def build_path(text, p, q):\n",
    "        \n",
    "    \n",
    "class sufix_tree:\n",
    "    def __init__(self, text):\n",
    "        self.text = text\n",
    "        self.root = sufix_node()\n",
    "        self._len = len(text)\n",
    "        \n",
    "        for i in range(n):\n",
    "            self.root.build_path(self.text, 0, n-1)\n",
    "            \n",
    "                \n",
    "                \n",
    "        "
   ]
  },
  {
   "cell_type": "code",
   "execution_count": null,
   "id": "c7775df4",
   "metadata": {},
   "outputs": [],
   "source": []
  }
 ],
 "metadata": {
  "kernelspec": {
   "display_name": "Python 3 (ipykernel)",
   "language": "python",
   "name": "python3"
  },
  "language_info": {
   "codemirror_mode": {
    "name": "ipython",
    "version": 3
   },
   "file_extension": ".py",
   "mimetype": "text/x-python",
   "name": "python",
   "nbconvert_exporter": "python",
   "pygments_lexer": "ipython3",
   "version": "3.9.7"
  }
 },
 "nbformat": 4,
 "nbformat_minor": 5
}
