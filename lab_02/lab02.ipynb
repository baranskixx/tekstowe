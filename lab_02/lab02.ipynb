{
 "cells": [
  {
   "cell_type": "markdown",
   "id": "8a6dc853",
   "metadata": {},
   "source": [
    "# Lab 02 - Trie Tree and Sufix Tree"
   ]
  },
  {
   "cell_type": "code",
   "execution_count": 1,
   "id": "d354e870",
   "metadata": {},
   "outputs": [],
   "source": [
    "from timeit import default_timer as timer"
   ]
  },
  {
   "cell_type": "markdown",
   "id": "27778255",
   "metadata": {},
   "source": [
    "## Sample data"
   ]
  },
  {
   "cell_type": "markdown",
   "id": "f4ce71ad",
   "metadata": {},
   "source": [
    "Sample input data: \n",
    "* \"bbb$\" (również w wersji, gdzie znak 'b' został powtórzony więcej razy)\n",
    "* \"aabbabd\"\n",
    "* \"ababcd\"\n",
    "* \"abcbccd\"\n",
    "* 1997_714_head.txt file"
   ]
  },
  {
   "cell_type": "code",
   "execution_count": 2,
   "id": "eb8dbb9e",
   "metadata": {},
   "outputs": [],
   "source": [
    "data_full = ['bbb$', 'bbbbbbbbbb$', 'aabbabd', 'ababcd', 'abcbccd', \n",
    "             open('1997_714_head.txt', mode='r', encoding='utf-8').read()]"
   ]
  },
  {
   "cell_type": "markdown",
   "id": "5a0c4892",
   "metadata": {},
   "source": [
    "Checking if every dataset has unique character (marker) at it's end. \n",
    "If not - add it."
   ]
  },
  {
   "cell_type": "code",
   "execution_count": 3,
   "id": "56990540",
   "metadata": {},
   "outputs": [],
   "source": [
    "potencial_markers = ['$', '#', '@', '*', '^', '%', '(', ')', '-', '=', '_', '+']\n",
    "\n",
    "for data in data_full:\n",
    "    last_char = data[-1]\n",
    "    n = len(data)\n",
    "    \n",
    "    for i in range(0, n-1):\n",
    "        if last_char == data[i]:\n",
    "            last_char = ''\n",
    "            break\n",
    "    \n",
    "    if last_char == '':\n",
    "        for marker in potencial_markers:\n",
    "            if marker not in data:\n",
    "                data += marker\n",
    "                break\n",
    "        else:\n",
    "            raise Exception(\"No suitable marker found!\")"
   ]
  },
  {
   "cell_type": "markdown",
   "id": "1ee5be9a",
   "metadata": {},
   "source": [
    "## Implementation of trie tree structure"
   ]
  },
  {
   "cell_type": "code",
   "execution_count": 4,
   "id": "8194da14",
   "metadata": {},
   "outputs": [],
   "source": [
    "class trie_node:\n",
    "    def __init__(self, ch = None):\n",
    "        self.char = ch\n",
    "        self.children = {}\n",
    "    \n",
    "    def create_path(self, text, index):\n",
    "        if index == len(text):\n",
    "            return\n",
    "        elif text[index] not in self.children.keys():\n",
    "            self.children[text[index]] = trie_node(text[index])\n",
    "        self.children[text[index]].create_path(text, index + 1)\n",
    "    \n",
    "    def search(self, text, index):\n",
    "        if len(text) == index:\n",
    "            return True\n",
    "        \n",
    "        if text[index] in self.children.keys():\n",
    "            return self.children[text[index]].search(text, index+1)\n",
    "        return False\n",
    "    \n",
    "class trie_tree:\n",
    "    def __init__(self, text):\n",
    "        self.root = trie_node()\n",
    "        for i in range(len(text)):\n",
    "            self.root.create_path(text, i)\n",
    "    \n",
    "    def find_occurence(self, s):\n",
    "        return self.root.search(s, 0)"
   ]
  },
  {
   "cell_type": "code",
   "execution_count": 5,
   "id": "6f6a6833",
   "metadata": {},
   "outputs": [],
   "source": [
    "cnt = 0\n",
    "\n",
    "class sufix_edge:\n",
    "    def __init__(self, p, q):\n",
    "        self.start_ = p\n",
    "        self.end_   = q\n",
    "\n",
    "class sufix_node:\n",
    "    def __init__(self):\n",
    "        self.children = {}\n",
    "    \n",
    "    def build_path(self, text, p, q):\n",
    "        char = text[p]\n",
    "        if char not in self.children.keys():\n",
    "            # jeśli brak wspólnego sufixu to tworzymy nową krawędź\n",
    "            self.children[char] = (sufix_edge(p, q), sufix_node())\n",
    "        else:\n",
    "            edge, node = self.children[char]\n",
    "            edge_len = edge.end_ - edge.start_ + 1\n",
    "            text_len = q - p + 1\n",
    "            \n",
    "            eq_len = 1\n",
    "            # jak długi jest wspólny sufix?\n",
    "            for i in range(1, min(edge_len, text_len)):\n",
    "                index_edge = edge.start_ + i\n",
    "                index_text = p + i\n",
    "                if text[index_edge] != text[index_text]:\n",
    "                    break\n",
    "                eq_len += 1\n",
    "            \n",
    "            # jeśli wspólny prefix pokrywa całą krawędź (a konkretnie tekst jaki reprezentuje ta krawędź)\n",
    "            if eq_len == edge_len:\n",
    "                # jeśli wspólny prefix nie pokrywa całego tekstu, który chcemy dodać \n",
    "                # do danego węzła to kontynuujemy od kolejnego węzła\n",
    "                if eq_len != text_len:\n",
    "                    node.build_path(text, p + edge_len, q)\n",
    "                return \n",
    "            \n",
    "            # jeśli wspólny prefix nie pokrywa całej krawędzi musimy dokonać jej rozdzielenia\n",
    "            new_node = sufix_node()\n",
    "            self.children[char] = (sufix_edge(edge.start_, edge.start_ + eq_len-1), new_node)\n",
    "            new_node.children[text[edge.start_ + eq_len]] = (sufix_edge(edge.start_ + eq_len, edge.end_), node) \n",
    "            \n",
    "            # jeśli nie pokrywa całej krawędzi I całego tekstu, który chcemy dodać to zaczynamy dodawanie\n",
    "            # kolejnego fragmentu tekstu od węzła rozdzielającego, który przed chwilą wstawiliśmy\n",
    "            if eq_len != text_len:\n",
    "                new_node.build_path(text, p+eq_len, q)\n",
    "    \n",
    "    def search(self, pattern, text):\n",
    "        if pattern == '':\n",
    "            return True\n",
    "        if pattern[0] not in self.children.keys():\n",
    "            return False\n",
    "        \n",
    "        edge, next_node = self.children[pattern[0]]\n",
    "        m = edge.end_ - edge.start_ + 1\n",
    "        n = len(pattern)\n",
    "        if n <= m:\n",
    "            return text[edge.start_ : edge.start_ + n] == pattern\n",
    "        \n",
    "        return text[edge.start_ : edge.end_+1] == pattern[:m] and next_node.search(pattern[m:], text)\n",
    "    \n",
    "    \n",
    "class sufix_tree:\n",
    "    def __init__(self, text):\n",
    "        self.text = text\n",
    "        self.root = sufix_node()\n",
    "        self._len = len(text)\n",
    "        global cnt\n",
    "        \n",
    "        for i in range(self._len-1):\n",
    "            cnt += 1\n",
    "            self.root.build_path(self.text, i, self._len-1)        \n",
    "    \n",
    "    def search(self, pattern):\n",
    "        _len = len(pattern)\n",
    "        \n",
    "        return self.root.search(pattern, self.text)"
   ]
  },
  {
   "cell_type": "markdown",
   "id": "bbb714f8",
   "metadata": {},
   "source": [
    "## Time comparison"
   ]
  },
  {
   "cell_type": "code",
   "execution_count": 7,
   "id": "acda519f",
   "metadata": {},
   "outputs": [
    {
     "name": "stdout",
     "output_type": "stream",
     "text": [
      "Test #1 : bbb$\n",
      "Creation of trie tree :  0.0011590 seconds\n",
      "Creation of sufix tree:  0.0000194 seconds\n",
      "\n",
      "Test #2 : bbbbbbbbbb$\n",
      "Creation of trie tree :  0.0000307 seconds\n",
      "Creation of sufix tree:  0.0000337 seconds\n",
      "\n",
      "Test #3 : aabbabd\n",
      "Creation of trie tree :  0.0000192 seconds\n",
      "Creation of sufix tree:  0.0000154 seconds\n",
      "\n",
      "Test #4 : ababcd\n",
      "Creation of trie tree :  0.0000223 seconds\n",
      "Creation of sufix tree:  0.0000106 seconds\n",
      "\n",
      "Test #5 : abcbccd\n",
      "Creation of trie tree :  0.0000283 seconds\n",
      "Creation of sufix tree:  0.0000200 seconds\n",
      "\n",
      "Test #6 : \\n\\n\\n\\nDz.U. z 1998 r. ... (too long)\n",
      "Creation of trie tree :  8.0458083 seconds\n",
      "Creation of sufix tree:  0.4240891 seconds\n",
      "\n"
     ]
    }
   ],
   "source": [
    "for i in range(len(data_full)):\n",
    "    data = data_full[i]\n",
    "    len_data = len(data)\n",
    "    print(\"Test #\" + str(i+1), end = ' : ')\n",
    "    if len_data >= 20:\n",
    "        print(data[0:20].replace(\"\\n\", \"\\\\n\") + \"... (too long)\")\n",
    "    else:\n",
    "        print(data.replace(\"\\n\", \"\\\\n\"))\n",
    "    \n",
    "    trie_start = timer()\n",
    "    tree = trie_tree(data)\n",
    "    trie_end = timer()\n",
    "    \n",
    "    \n",
    "    print(\"Creation of trie tree : \" + str(f'{trie_end - trie_start : .7f}') + \" seconds\")\n",
    "    \n",
    "    sufix_start = timer()\n",
    "    tree = sufix_tree(data)\n",
    "    sufix_end = timer()\n",
    "    \n",
    "    print(\"Creation of sufix tree: \" + str(f'{sufix_end - sufix_start : .7f}') + \" seconds\")\n",
    "    \n",
    "    print('')"
   ]
  },
  {
   "cell_type": "markdown",
   "id": "a21eff5b",
   "metadata": {},
   "source": [
    "Różnice w czasie generowania struktur w przypadku tekstów krótkich nie są różnicami znacznymi. Różnice stają się wyraźne, gdy tworzymy struktury w oparciu o długie teksty. Spowodowane jest to prawdopodobnie tym, że drzewo sufixów przy nieznalezieniu jakiegokolwiek wspólnego początku tworzy po prostu pojedyńczą krawędź, podczas gdy drzewo trie przechodzi zawsze znak po znaku dodając kolejne węzły. Drzewo sufixów nie radzi sobie natomiast najlepiej z tekstami, gdzie dużo sufixów ma wspólne prefixy, co może być spowodowane przez dodawanie duzych ilości węzłów rozszczepiających istniejące już krawędzie, lub błędy w implementacji popełnione przez niesfornego programistę."
   ]
  },
  {
   "cell_type": "code",
   "execution_count": null,
   "id": "b5cd4649",
   "metadata": {},
   "outputs": [],
   "source": []
  }
 ],
 "metadata": {
  "kernelspec": {
   "display_name": "Python 3 (ipykernel)",
   "language": "python",
   "name": "python3"
  },
  "language_info": {
   "codemirror_mode": {
    "name": "ipython",
    "version": 3
   },
   "file_extension": ".py",
   "mimetype": "text/x-python",
   "name": "python",
   "nbconvert_exporter": "python",
   "pygments_lexer": "ipython3",
   "version": "3.9.7"
  }
 },
 "nbformat": 4,
 "nbformat_minor": 5
}
