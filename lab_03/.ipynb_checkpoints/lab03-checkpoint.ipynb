{
 "cells": [
  {
   "cell_type": "markdown",
   "id": "d70dd256",
   "metadata": {},
   "source": [
    "# Huffman coding"
   ]
  },
  {
   "cell_type": "markdown",
   "id": "cbfc923b",
   "metadata": {},
   "source": [
    "### Useful library imports"
   ]
  },
  {
   "cell_type": "code",
   "execution_count": 2,
   "id": "c17b3616",
   "metadata": {},
   "outputs": [],
   "source": [
    "from timeit import timeit\n",
    "import os\n",
    "from heapq import heappush, heappop\n",
    "from bitarray import bitarray"
   ]
  },
  {
   "cell_type": "markdown",
   "id": "2997eccf",
   "metadata": {},
   "source": [
    "### Data imports"
   ]
  },
  {
   "cell_type": "code",
   "execution_count": 3,
   "id": "9d220e64",
   "metadata": {},
   "outputs": [],
   "source": [
    "data = [open('1kb.txt', mode = 'r', encoding='utf-8').read(),\n",
    "        open('10kb.txt', mode = 'r', encoding='utf-8').read(),\n",
    "        open('100kb.txt', mode = 'r', encoding='utf-8').read(),\n",
    "        open('1mb.txt', mode = 'r', encoding='utf-8').read()]\n",
    "\n",
    "data2 = [open('pan-tadeusz.txt', mode = 'r', encoding='utf-8').read(),\n",
    "        open('lalka-tom-pierwszy.txt', mode = 'r', encoding='utf-8').read()]"
   ]
  },
  {
   "cell_type": "markdown",
   "id": "1f17c6ae",
   "metadata": {},
   "source": [
    "## Static Huffman coding implementation"
   ]
  },
  {
   "cell_type": "code",
   "execution_count": null,
   "id": "41fdc467",
   "metadata": {},
   "outputs": [],
   "source": []
  },
  {
   "cell_type": "code",
   "execution_count": 70,
   "id": "126803ad",
   "metadata": {},
   "outputs": [],
   "source": [
    "class Node:\n",
    "    def __init__(self, char, left_child, right_child, weight):\n",
    "        self.left = left_child\n",
    "        self.right = right_child\n",
    "        self.weight = weight\n",
    "        self.char = char\n",
    "    \n",
    "    def __lt__(self, other):\n",
    "        if not isinstance(other, type(self)):\n",
    "            return NotImplemented\n",
    "        \n",
    "        return self.weight < other.weight\n",
    "\n",
    "# słownik \n",
    "def find_number_of_occurences(text):\n",
    "    hashmap = {}\n",
    "\n",
    "    for char in text:\n",
    "        hashmap[char] = 1 if char not in hashmap.keys() else hashmap[char] + 1\n",
    "\n",
    "#     print(hashmap)\n",
    "    return sorted([elem for elem in hashmap.items()], key = lambda x : x[1])\n",
    "\n",
    "def build_huffman_tree(char_cnt):\n",
    "    nodes = [Node(char, None, None, weight) for char, weight in char_cnt]\n",
    "\n",
    "    while len(nodes) > 1:\n",
    "        node1 = heappop(nodes)\n",
    "        node2 = heappop(nodes)\n",
    "\n",
    "        heappush(nodes, Node(None, node1, node2, node1.weight + node2.weight))\n",
    "\n",
    "    return nodes[0]\n",
    "\n",
    "def find_encoding(root):\n",
    "    encoding = {}\n",
    "    def rek(node, code = ''):\n",
    "        if node.left is None:\n",
    "            encoding[node.char] = bitarray(code)\n",
    "        else:\n",
    "            rek(node.left, code + '1')\n",
    "            rek(node.right, code + '0')\n",
    "\n",
    "    rek(root)\n",
    "    return encoding\n",
    "\n",
    "def encode(text):\n",
    "    char_cnt = find_number_of_occurences(text)\n",
    "    root = build_huffman_tree(char_cnt)\n",
    "    hashmap = find_encoding(root)\n",
    "    \n",
    "    alphabet_size  = len(hashmap.keys())\n",
    "    alphabet = bitarray()\n",
    "    alphabet.frombytes(alphabet_size.to_bytes(2, byteorder='big', signed=False))\n",
    "    for char, weight in char_cnt:\n",
    "        char_bits = bitarray()\n",
    "        weight_bits = bitarray()\n",
    "        char_bits.frombytes((ord(char)).to_bytes(2, byteorder='big', signed=False))\n",
    "        weight_bits.frombytes(weight.to_bytes(3, byteorder='big', signed=False))\n",
    "        alphabet += char_bits + weight_bits\n",
    "    \n",
    "    coded_text = bitarray()\n",
    "    for char in text:\n",
    "        coded_char = bitarray(hashmap[char])\n",
    "        coded_text += coded_char\n",
    "    \n",
    "    return alphabet + coded_text\n",
    "    \n",
    "def decode(encoded_data):\n",
    "    alphabet_size = int.from_bytes(encoded_data[:16], byteorder='big', signed=True)\n",
    "    char_cnt = []\n",
    "    encoded_data = encoded_data[16:]\n",
    "    for _ in range(alphabet_size):\n",
    "        char = chr(int.from_bytes(encoded_data[:16], byteorder='big', signed=False))\n",
    "        encoded_data = encoded_data[16:]\n",
    "        weight = int.from_bytes(encoded_data[:24], byteorder='big', signed=False)\n",
    "        encoded_data = encoded_data[24:]\n",
    "        char_cnt.append((char, weight))\n",
    "    \n",
    "    char_cnt = sorted(char_cnt, key = lambda x : x[1])\n",
    "    root = build_huffman_tree(char_cnt)\n",
    "    \n",
    "    decoded_text = ''\n",
    "    current_node = root\n",
    "    i = 0\n",
    "    n = len(encoded_data)\n",
    "    \n",
    "    while i < n:\n",
    "        if current_node.left is None:\n",
    "            decoded_text += current_node.char\n",
    "            current_node = root\n",
    "        else:\n",
    "            if encoded_data[i] == True:\n",
    "                current_node = current_node.left\n",
    "            else:\n",
    "                current_node = current_node.right\n",
    "            i += 1\n",
    "    \n",
    "    return decoded_text\n",
    "    "
   ]
  },
  {
   "cell_type": "markdown",
   "id": "38062cde",
   "metadata": {},
   "source": []
  },
  {
   "cell_type": "code",
   "execution_count": null,
   "id": "9860c4f7",
   "metadata": {},
   "outputs": [],
   "source": [
    "def test_static_huffman(filename):\n",
    "    output_file = \"encoded_\" + filename\n",
    "    with open(filename, 'r') as file:\n",
    "        text = file.read()\n",
    "    \n",
    "    print(\"Testing static huffman tree operations.\")\n",
    "    print(\"File: \" + filename)"
   ]
  }
 ],
 "metadata": {
  "kernelspec": {
   "display_name": "Python 3 (ipykernel)",
   "language": "python",
   "name": "python3"
  },
  "language_info": {
   "codemirror_mode": {
    "name": "ipython",
    "version": 3
   },
   "file_extension": ".py",
   "mimetype": "text/x-python",
   "name": "python",
   "nbconvert_exporter": "python",
   "pygments_lexer": "ipython3",
   "version": "3.9.7"
  }
 },
 "nbformat": 4,
 "nbformat_minor": 5
}
