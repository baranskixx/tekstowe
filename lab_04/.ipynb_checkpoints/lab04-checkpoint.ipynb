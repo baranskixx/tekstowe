{
 "cells": [
  {
   "cell_type": "code",
   "execution_count": 1,
   "id": "8db0b92c",
   "metadata": {},
   "outputs": [],
   "source": [
    "import spacy\n",
    "from random import random\n",
    "from bisect import bisect"
   ]
  },
  {
   "cell_type": "markdown",
   "id": "3e3d9c23",
   "metadata": {},
   "source": [
    "# Lab 04 - Edit distance"
   ]
  },
  {
   "cell_type": "markdown",
   "id": "87a57249",
   "metadata": {},
   "source": [
    "### Implementacja algorytmu wyznaczania odległości edycyjnej wraz z odtworzonymi krokami"
   ]
  },
  {
   "cell_type": "code",
   "execution_count": 14,
   "id": "2c5f03ca",
   "metadata": {},
   "outputs": [],
   "source": [
    "def delta(a, b):\n",
    "    return 0 if a == b else 1\n",
    "\n",
    "def edit_distance(x, y, delta, show_answer = False):\n",
    "    m = len(x)\n",
    "    n = len(y)\n",
    "    table = [[0]*(n+1) for _ in range(m+1)]\n",
    "    \n",
    "    for i in range(m+1):\n",
    "        table[i][0] = i\n",
    "    \n",
    "    for i in range(n+1):\n",
    "        table[0][i] = i\n",
    "    \n",
    "    for i in range(1, m+1):\n",
    "        for j in range(1, n+1):\n",
    "            table[i][j] = min(table[i-1][j] + 1, table[i][j-1]+1, table[i-1][j-1] + delta(x[i-1], y[j-1]))\n",
    "    \n",
    "    if show_answer:\n",
    "        return([x + ' -> ' + y] + get_solution(table, x, y, m, n))\n",
    "    return table[m][n]\n",
    "    \n",
    "def get_solution(table, s1, s2, i, j):\n",
    "    if table[i][j] == 0:\n",
    "        return []\n",
    "    \n",
    "    if i == 0:\n",
    "        step = s1 + ' -> ' + '|' + s2[j-1] + '|' + s1\n",
    "        s1 = s2[j-1] + s1\n",
    "        return [step] + get_solution(table, s1, s2, i, j-1)\n",
    "    elif j == 0:\n",
    "        step = s1 + '->' + s1[:-1] + '_'\n",
    "        s1 = s1[:-1]\n",
    "        return [step] + get_solution(table, s1, s2, i-1, j) \n",
    "    else:\n",
    "        if table[i][j] == table[i-1][j] + 1:\n",
    "            step = s1 + ' -> ' + s1[:i-1] + '_' + s1[i:]\n",
    "            s1 = s1[:i-1] + s1[i:]\n",
    "            return [step] + get_solution(table, s1, s2, i-1, j)\n",
    "        elif table[i][j] == table[i][j-1] + 1:\n",
    "            step = s1 + ' -> ' + s1[:i] + '|' + s2[j-1] + '|' + s1[i:]\n",
    "            s1 = s1[:i] + s2[j-1] + s1[i:]\n",
    "            return [step] + get_solution(table, s1, s2, i, j-1)\n",
    "\n",
    "        if s1[i-1] == s2[j-1]:\n",
    "            return get_solution(table, s1, s2, i-1, j-1)\n",
    "        \n",
    "        step = s1 + ' -> ' + s1[:i-1] + '*' + s2[j-1] + '*' + s1[i:]\n",
    "        s1 = s1[:i-1] + s2[j-1] + s1[i:]\n",
    "        return  [step] + get_solution(table, s1, s2, i-1, j-1)"
   ]
  },
  {
   "cell_type": "code",
   "execution_count": 15,
   "id": "b8a38378",
   "metadata": {},
   "outputs": [
    {
     "name": "stdout",
     "output_type": "stream",
     "text": [
      "los -> lo*c*\n",
      "loc -> |k|loc\n",
      "los -> kloc\n"
     ]
    }
   ],
   "source": [
    "for line in edit_distance('los', 'kloc', delta, True):\n",
    "    print(line)"
   ]
  },
  {
   "cell_type": "code",
   "execution_count": 16,
   "id": "b8eed3d1",
   "metadata": {},
   "outputs": [
    {
     "name": "stdout",
     "output_type": "stream",
     "text": [
      "Łódź -> Łód*z*\n",
      "Łódz -> Ł*o*dz\n",
      "Łodz -> *L*odz\n",
      "Łódź -> Lodz\n"
     ]
    }
   ],
   "source": [
    "for line in edit_distance('Łódź', 'Lodz', delta, True):\n",
    "    print(line)"
   ]
  },
  {
   "cell_type": "code",
   "execution_count": 17,
   "id": "9c668b1a",
   "metadata": {},
   "outputs": [
    {
     "name": "stdout",
     "output_type": "stream",
     "text": [
      "kwintesencja -> kwintesencj_\n",
      "kwintesencj -> kwintesenc*e*\n",
      "kwintesence -> kwintes|s|ence\n",
      "kwintessence -> k*u*intessence\n",
      "kuintessence -> *q*uintessence\n",
      "kwintesencja -> quintessence\n"
     ]
    }
   ],
   "source": [
    "for line in edit_distance('kwintesencja', 'quintessence', delta, True):\n",
    "    print(line)"
   ]
  },
  {
   "cell_type": "code",
   "execution_count": 18,
   "id": "3e20f472",
   "metadata": {},
   "outputs": [
    {
     "name": "stdout",
     "output_type": "stream",
     "text": [
      "ATGAATCTTACCGCCTCG -> ATGAATCTTACCGCCT_G\n",
      "ATGAATCTTACCGCCTG -> ATGAATCTTACC_CCTG\n",
      "ATGAATCTTACCCCTG -> ATGAATCTTA|G|CCCCTG\n",
      "ATGAATCTTAGCCCCTG -> ATGAATCTT*G*GCCCCTG\n",
      "ATGAATCTTGGCCCCTG -> ATGAATCT|C|TGGCCCCTG\n",
      "ATGAATCTCTGGCCCCTG -> ATGAA*G*CTCTGGCCCCTG\n",
      "ATGAAGCTCTGGCCCCTG -> ATGA*G*GCTCTGGCCCCTG\n",
      "ATGAATCTTACCGCCTCG -> ATGAGGCTCTGGCCCCTG\n"
     ]
    }
   ],
   "source": [
    "for line in edit_distance('ATGAATCTTACCGCCTCG', 'ATGAGGCTCTGGCCCCTG', delta, True):\n",
    "    print(line)"
   ]
  },
  {
   "cell_type": "markdown",
   "id": "a043e17f",
   "metadata": {},
   "source": [
    "### Implementacja algorytmu znajdowania maksymalnego wspólnego podciągu"
   ]
  },
  {
   "cell_type": "code",
   "execution_count": 19,
   "id": "5b11076e",
   "metadata": {},
   "outputs": [],
   "source": [
    "def longest_common_sequence(x, y):\n",
    "    ranges = [len(y)]\n",
    "    y_letters = list(y)\n",
    "    for i in range(len(x)):\n",
    "        positions = [j for j, l in enumerate(y_letters) if l == x[i]]\n",
    "        positions.reverse()\n",
    "        for p in positions:\n",
    "            k = bisect(ranges, p)\n",
    "            if k == bisect(ranges, p - 1):\n",
    "                if k < len(ranges) - 1:\n",
    "                    ranges[k] = p\n",
    "                else:\n",
    "                    ranges[k:k] = [p]\n",
    "    return len(ranges) - 1"
   ]
  },
  {
   "cell_type": "code",
   "execution_count": 42,
   "id": "bcc847a3",
   "metadata": {},
   "outputs": [
    {
     "name": "stdout",
     "output_type": "stream",
     "text": [
      "Najdłuższy wspólny podciąg słów los i kloc ma długość: 2\n"
     ]
    }
   ],
   "source": [
    "print('Najdłuższy wspólny podciąg słów los i kloc ma długość: {}'\n",
    "     .format(longest_common_sequence('los', 'kloc')))"
   ]
  },
  {
   "cell_type": "code",
   "execution_count": 43,
   "id": "42f5e784",
   "metadata": {},
   "outputs": [
    {
     "name": "stdout",
     "output_type": "stream",
     "text": [
      "Najdłuższy wspólny podciąg słów Łódź i Lodz ma długość: 1\n"
     ]
    }
   ],
   "source": [
    "print('Najdłuższy wspólny podciąg słów Łódź i Lodz ma długość: {}'\n",
    "     .format(longest_common_sequence('Łódź', 'Lodz')))"
   ]
  },
  {
   "cell_type": "code",
   "execution_count": 44,
   "id": "673bc3e3",
   "metadata": {},
   "outputs": [
    {
     "name": "stdout",
     "output_type": "stream",
     "text": [
      "Najdłuższy wspólny podciąg słów kwintesencja i quintessence ma długość: 8\n"
     ]
    }
   ],
   "source": [
    "print('Najdłuższy wspólny podciąg słów kwintesencja i quintessence ma długość: {}'\n",
    "     .format(longest_common_sequence('kwintesencja', 'quintessence')))"
   ]
  },
  {
   "cell_type": "code",
   "execution_count": 45,
   "id": "cc193e84",
   "metadata": {},
   "outputs": [
    {
     "name": "stdout",
     "output_type": "stream",
     "text": [
      "Najdłuższy wspólny podciąg słów ATGAATCTTACCGCCTCG i ATGAGGCTCTGGCCCCTG ma długość: 13\n"
     ]
    }
   ],
   "source": [
    "print('Najdłuższy wspólny podciąg słów ATGAATCTTACCGCCTCG i ATGAGGCTCTGGCCCCTG ma długość: {}'\n",
    "     .format(longest_common_sequence('ATGAATCTTACCGCCTCG', 'ATGAGGCTCTGGCCCCTG')))"
   ]
  },
  {
   "cell_type": "markdown",
   "id": "4cf0e9e4",
   "metadata": {},
   "source": [
    "### Podział tekstu na tokeny i usunięcie 3% tokenów"
   ]
  },
  {
   "cell_type": "code",
   "execution_count": 24,
   "id": "6bcf94f0",
   "metadata": {},
   "outputs": [],
   "source": [
    "def text_with_removed_tokens(doc : spacy.tokens.Doc, tokens_to_delete : float):\n",
    "    reduced_text = []\n",
    "    \n",
    "    for token in doc:\n",
    "        if random() > tokens_to_delete :\n",
    "            reduced_text += [token.text_with_ws]\n",
    "        else:\n",
    "            cnt = token.text_with_ws.count('\\n')\n",
    "            for _ in range(cnt):\n",
    "                reduced_text += ['\\n']\n",
    "            \n",
    "    return reduced_text"
   ]
  },
  {
   "cell_type": "code",
   "execution_count": 25,
   "id": "2a4e4834",
   "metadata": {},
   "outputs": [
    {
     "name": "stdout",
     "output_type": "stream",
     "text": [
      "Ilość tokenów na które został podzielony tekst: 2699\n",
      "Ilość tokenów usuniętych z pierwszej wersji podziału: 52\n",
      "Ilość tokenów usuniętych z drugiej wersji podziału: 61\n",
      "Najdłuższy wspólny podciąg tokenów: 2551\n"
     ]
    }
   ],
   "source": [
    "with open('romeo-i-julia-700.txt', mode='r', encoding='utf-8') as file:\n",
    "    data = file.read()\n",
    "\n",
    "    nlp = spacy.load(\"pl_core_news_sm\")\n",
    "    doc = nlp(data)\n",
    "    reduced_text1 = text_with_removed_tokens(doc, 0.03)\n",
    "    reduced_text2 = text_with_removed_tokens(doc, 0.03)\n",
    "    \n",
    "    \n",
    "    with open('variant1.txt', mode='w', encoding='utf-8') as save_file:\n",
    "        for token_text in reduced_text1:\n",
    "            save_file.write(token_text)\n",
    "    \n",
    "    with open('variant2.txt', mode='w', encoding='utf-8') as save_file:\n",
    "        for token_text in reduced_text2:\n",
    "            save_file.write(token_text)\n",
    "    \n",
    "    lcs = longest_common_sequence(reduced_text1, reduced_text2)\n",
    "    \n",
    "    print('Ilość tokenów na które został podzielony tekst: {}'.format(len(doc)))\n",
    "    print('Ilość tokenów usuniętych z pierwszej wersji podziału: {}'.format(len(doc) - len(reduced_text1)))\n",
    "    print('Ilość tokenów usuniętych z drugiej wersji podziału: {}'.format(len(doc) - len(reduced_text2)))\n",
    "    print('Najdłuższy wspólny podciąg tokenów: {}'.format(lcs))"
   ]
  },
  {
   "cell_type": "code",
   "execution_count": 33,
   "id": "c0236992",
   "metadata": {},
   "outputs": [],
   "source": [
    "def show_diff(x, y):\n",
    "    L = [[0 for _ in range(len(y) + 1)] for _ in range(len(x) + 1)]\n",
    "    for i in range(1, len(x) + 1):\n",
    "        for j in range(1, len(y) + 1):\n",
    "            if x[i - 1] == y[j - 1]:\n",
    "                L[i][j] = L[i - 1][j - 1] + 1\n",
    "            else:\n",
    "                L[i][j] = max(L[i - 1][j], L[i][j - 1])\n",
    "    lines = []\n",
    "    i = len(x) - 1\n",
    "    j = len(y) - 1\n",
    "    \n",
    "    while i >= 0 and j >= 0:\n",
    "        if x[i] == y[j]:\n",
    "            i, j = i-1, j-1\n",
    "        elif L[i][j-1] >= L[i-1][j]:\n",
    "            lines.append(f\"> |{j}| {y[j]}\")\n",
    "            j -= 1\n",
    "        elif L[i][j-1] < L[i-1][j]:\n",
    "            lines.append(f\"< |{i}| {x[i]}\")\n",
    "            i -= 1\n",
    "            \n",
    "    while j >= 0:\n",
    "        lines.append(f\"> |{j}| {y[j]}\")\n",
    "        j -= 1\n",
    "        \n",
    "    while i >= 0:\n",
    "        lines.append(f\"< |{i}| {x[i]}\")\n",
    "        i -= 1\n",
    "    lines.reverse()\n",
    "    for line in lines:\n",
    "        print(line)"
   ]
  },
  {
   "cell_type": "code",
   "execution_count": 34,
   "id": "6fc21049",
   "metadata": {
    "scrolled": false
   },
   "outputs": [
    {
     "name": "stdout",
     "output_type": "stream",
     "text": [
      "< |10|  * ESKALUS — książę panujący w Weronie\n",
      "> |10| * ESKALUS — książę panujący w Weronie\n",
      "< |11|  * PARYS — młody Weroneńczyk szlachetnego , krewny księcia\n",
      "< |12|  * MONTEKI, KAPULET — naczelnicy dwóch domów nieprzyjaznych sobie\n",
      "> |11|  * PARYS — młody Weroneńczyk szlachetnego rodu, krewny księcia\n",
      "> |12|  * MONTEKI, KAPULET — dwóch domów nieprzyjaznych sobie\n",
      "< |17|  * TYBALT — krewny Kapulet\n",
      "> |17|  * TYBALT — krewny Pani Kapulet\n",
      "< |18|  * LAURENTY — ojciec franciszkanin\n",
      "< |19| * JAN — brat z tegoż zgromadzenia\n",
      "> |18|  * LAURENTY — ojciec franciszkanin\n",
      "> |19|  * JAN — brat z tegoż zgromadzenia\n",
      "< |20|  * BALTAZAR — służący Romea\n",
      "< |21|  * , GRZEGORZ — słudzy Kapuleta\n",
      "> |20|  * BALTAZAR — służący Romea\n",
      "> |21|  * SAMSON, GRZEGORZ słudzy Kapuleta\n",
      "< |26|  * PIOTR\n",
      "> |26|  * \n",
      "< |29|  * PANI KAPULET — małżonka Kapuleta\n",
      "> |29|  PANI KAPULET — małżonka Kapuleta\n",
      "< |30|  * JULIA — córka Kapuletów\n",
      "< |31|  * MARTA — Julii\n",
      "> |30|  * JULIA — córka Kapuletów\n",
      "> |31|  * MARTA — mamka Julii\n",
      "< |32|  * Obywatele weroneńscy, różne osoby płci obojej, liczący się do przyjaciół obu domów, maski, straż wojskowa i inne osoby.\n",
      "> |32|  * Obywatele weroneńscy, różne osoby obojej, liczący się do przyjaciół obu domów, maski, straż wojskowa i inne osoby.\n",
      "< |57| Aż ją zakończy dzieci zgon przedwczesny,\n",
      "> |57| Aż ją zakończy dzieci zgon ,\n",
      "< |66| AKT PIERWSZY\n",
      "> |66| AKT \n",
      "< |72| / Plac publiczny. Wchodzą Samson i Grzegorz uzbrojeni w tarcze i miecze. /\n",
      "> |72| / publiczny. Wchodzą Samson i Grzegorz uzbrojeni w tarcze i miecze. /\n",
      "< |80| GRZEGORZ\n",
      "> |80| \n",
      "< |87| Ale będziemy darli koty, jak z nami zadrą.\n",
      "> |87| Ale będziemy darli koty, jak nami zadrą.\n",
      "< |92| Kto zechce zadrzeć z namibędzie musiał zadrżeć.\n",
      "> |92| Kto zechce zadrzeć z nami, będzie musiał zadrżeć.\n",
      "< |97| Mam drapać zaraz, jak kto rozrucha.\n",
      "> |97| Mam zwyczaj drapać zaraz, jak mię kto rozrucha.\n",
      "< |108| \n",
      "> |110| GRZEGORZ\n",
      "> |112| Rozruchać się tyle znaczy co ruszyć się z miejsca; być walecznym jest stać nieporuszenie: pojmuję więc, że skutkiem rozruchania się twego będzie - drapnięcie.\n",
      "< |112| Rozruchać się tyle znaczy co ruszyć się z miejsca; być walecznym jest to stać nieporuszenie: pojmuję więc, że skutkiem rozruchania się twego będzie - drapnięcie.\n",
      "< |117| Te psy z domu Montekich rozruchać mię mogą tylko do stania na miejscu. Będę jak mur dla każdego mężczyzny i każdej kobiety z tego domu.\n",
      "> |117| Te psy z domu Montekich rozruchać mię mogą tylko stania na miejscu. Będę jak mur dla każdego mężczyzny i każdej kobiety z tego domu.\n",
      "< |127| Prawda, dlatego to kobiety, jako najsłabsze, tulą się zawsze do muruJa też odtrącę od muru ludzi Montekich, a kobiety Montekich przyprę do muru.\n",
      "> |127| Prawda, dlatego to kobiety, jako najsłabsze, tulą się do muru. Ja też odtrącę od muru ludzi , a kobiety Montekich przyprę do muru.\n",
      "< |132| Spór jest tylko między naszymi panami i między nami, ich ludźmi.\n",
      "> |132| jest tylko między naszymi panami i między nami, ich ludźmi.\n",
      "< |137| Mniejsza mi o to, będę nieubłagany. Pobiwszy ludzi, wściekłość na kobietach: rzeź między nimi sprawię.\n",
      "> |137| Mniejsza mi o tobędę nieubłagany. Pobiwszy ludzi, wywrę wściekłość na : rzeź między nimi sprawię.\n",
      "< |152| Tym lepiej, że się liczysz do zwierząt; bo gdybyś się liczył do ryb, to byłbyś pewnie sztokfiszem. Weź no się za instrument, bo oto nadchodzi dwóch domowników Montekiego.\n",
      "> |152| Tym , że się liczysz do zwierząt; bo gdybyś się liczył do ryb, to byłbyś pewnie sztokfiszem. Weź no się za instrument, oto nadchodzi dwóch domowników Montekiego.\n",
      "< |159| Mój giwer już : zaczep ich, ja stanę z tyłu.\n",
      "> |159| Mój giwer już dobyty: zaczep ich, ja stanę z tyłu.\n",
      "< |184| Marsa im nastawię przechodząc; niech go sobie, jak chcą, tłumaczą.\n",
      "> |184| Marsa im nastawię przechodząc; niech go sobie, jak , tłumaczą.\n",
      "< |189| Nie jak chcą, ale jak śmią. Ja im gębę wykrzywię; hańba im, jeśli to ścierpią.\n",
      "> |189| jak chcą, ale jak śmią. Ja im gębę wykrzywię; hańba im, jeśli to ścierpią.\n",
      "< |211| Będziemy–ż mieli prawo za sobą, jak powiem: tak ?\n",
      "> |211| Będziemy–ż prawo za sobą, jak powiem: tak jest?\n",
      "< |221| Nie, mości panienie skrzywiłem się na was, tylko skrzywiłem się tak sobie.\n",
      "> |221| Niemości panie; nie skrzywiłem się na was, tylko skrzywiłem się tak sobie.\n",
      "< |228| Zaczepki waść szukasz?\n",
      "> |228| waść szukasz?\n",
      "< |233| Zaczepki? nie\n",
      "> |233| Zaczepki? nie.\n",
      "< |238| Jeżeli jej szukasz, to jestem na waścine usługi. Mój pan tak dobry jak i wasz.\n",
      "> |238| Jeżeli jej szukasz, to na waścine usługi. Mój pan tak dobry jak i .\n",
      "< |251| \n",
      "> |253| GRZEGORZ\n",
      "> |255| / na stronie do Samsona /\n",
      "< |255| / na stronie Samsona /\n",
      "> |256| \n",
      "> |257| Powiedz: lepszy. Oto jeden z krewnych mego pana.\n",
      "< |256| \n",
      "< |257| Powiedz: lepszy. Oto nadchodzi jeden z krewnych mego pana.\n",
      "< |262| inaczej; lepszy.\n",
      "> |262| Nie inaczej; lepszy.\n",
      "< |277| Odstąpcie, głupcy; schowajcie miecze do . Sami nie wiecie, co robicie.\n",
      "> |277| Odstąpcie, głupcy; schowajcie miecze do pochew. Sami nie wiecie, co robicie.\n",
      "< |299| Tego , tak jak nienawidzę\n",
      "> |299| Tego wyrazu, tak jak nienawidzę\n",
      "< |303| / Walczą. Nadchodzi kilku przyjaciół partii i mieszają się do zwady; wkrótce potem wchodzą mieszczanie z pałkami. /\n",
      "> |303| / Walczą. Nadchodzi kilku przyjaciół obu partii i mieszają się do zwady; wkrótce potem wchodzą mieszczanie z pałkami. /\n",
      "< |308| ! berdyszów! pałek! Dalej po nich!\n",
      "> |308| Hola! berdyszów! pałek! Dalej po nich!\n",
      "< |311| Wchodzą Kapulet i Pani /\n",
      "> |311| / Wchodzą Kapulet i Pani Kapulet /\n",
      "< |335| Hanędzny Kapulecie!\n",
      "> |335| Ha! nędzny Kapulecie!\n",
      "< |344| Nie puszczę cię na krok, gdy wróg przed tobą.\n",
      "> |344| Nie puszczę cię na krok, gdy wróg przed .\n",
      "< |352| Bezcześciciele bratniej stali! Cóż to,\n",
      "> |352| Bezcześciciele stali! Cóż to,\n",
      "< |353| Czy nie słyszycie? Ludzie czy zwierzęta,\n",
      "< |354| Co wściekłych swoich gniewów gasicie\n",
      "< |355| W własnych żył swoich źródle purpurowym;\n",
      "< |356| Pod karą tortur wypuśćcie natychmiast\n",
      "> |353| Czy nie słyszycie? Ludzie czy ,\n",
      "> |354| Co wściekłych swoich gniewów żar gasicie\n",
      "> |355| W własnych żył swoich źródle purpurowym;\n",
      "> |356| karą tortur wypuśćcie natychmiast\n",
      "< |357| Z dłoni skrwawionych tę broń buntowniczą\n",
      "< |358| I posłuchajcie tego, co \n",
      "> |357| Z dłoni skrwawionych tę broń buntowniczą\n",
      "> |358| I posłuchajcie tego, co niniejszym\n",
      "< |359| Wasz rozjątrzony książę postanawia.\n",
      "< |360| Domowe starcia, z marnych słów zrodzone\n",
      "> |359| rozjątrzony książę postanawia.\n",
      "> |360| Domowe starcia, z marnych słów \n",
      "< |363| Tak że poważni wiekiem i zasługą\n",
      "> |363| Tak że poważni wiekiem i \n",
      "< |364| Obywatele werońscy musieli\n",
      "< |365| Porzucić swoje wygodne \n",
      "> |364| Obywatele werońscy musieli\n",
      "> |365| Porzucić swoje wygodne przybory\n",
      "< |366| I w stare dłonie stare ująć miecze,\n",
      "> |366| I w stare stare ująć miecze,\n",
      "< |369| Wzniecicie kiedyś waśń podobną,\n",
      "> |369| Wzniecicie kiedyś podobną,\n",
      "< |374| Na ratusz, gdzie ci dokładnie w tym względzie\n",
      "> |374| Na ratuszgdzie ci dokładnie w tym względzie\n",
      "< |375| Dalsza ma wola oznajmiona będzie.\n",
      "< |376| Jeszcze raz wzywam wszystkich \n",
      "> |375| Dalsza ma wola oznajmiona będzie.\n",
      "> |376| Jeszcze raz wzywam wszystkich tu obecnych\n",
      "< |379| / Książę z orszakiem wychodzi. Kapulet, Pani Kapulet, Tybalt, obywatele i słudzy. /\n",
      "> |379| / Książę z orszakiem wychodzi. Podobnież Kapulet, Pani Kapulet, Tybalt, obywatele i słudzy. /\n",
      "< |385| Był żeś tu wtedy, gdy się to ?\n",
      "> |385| Był żeś tu wtedy, gdy się to zaczęło?\n",
      "< |390| Nieprzyjaciela naszego \n",
      "> |390| Nieprzyjaciela naszego pachołcy\n",
      "< |393| Wtem wpadł szalony Tybalt z mieczem,\n",
      "> |393| Wtem szalony Tybalt z gołym mieczem,\n",
      "< |397| Jego zamachów. Gdyśmy tak sobą\n",
      "> |397| Jego zamachów. Gdyśmy tak ze sobą\n",
      "< |412| W złotych się oknach wschodu ukazało,\n",
      "> |412| W złotych oknach wschodu ukazało\n",
      "< |413| Troski wygnały mię z dala domu\n",
      "> |413| Troski mię z dala od domu\n",
      "< |418| Lecz on, spostrzegłszy mię, skrył natychmiast\n",
      "> |418| Lecz on, spostrzegłszy mię, skrył się natychmiast\n",
      "< |421| Mierząc mym własnym (serce nasze bowiem\n",
      "> |421| Mierząc mym (serce nasze bowiem\n",
      "< |422| Jest najczynniejsze, kiedyśmy samotni),\n",
      "< |423| Nie przeszkadzałem w jego dumaniach\n",
      "> |422| Jest najczynniejsze, kiedyśmy samotni),\n",
      "> |423| Nie mu w jego dumaniach\n",
      "< |424| I w inną stronę się udałem, chętnie\n",
      "< |425| Stroniąc od tego, co rad mnie unikał.\n",
      "> |424| w inną stronę się udałem, chętnie\n",
      "> |425| Stroniąc od , co rad mnie unikał.\n",
      "< |436| On, uciekając od widoku światła\n",
      "> |436| On, uciekając od widoku światła,\n",
      "< |437| Co tchu się w swoim pokoju;\n",
      "> |437| Co tchu zamykał się w swoim pokoju;\n",
      "< |441| Jeśli się na to lekarstwo nie znajdzie.\n",
      "> |441| Jeśli się na to lekarstwo znajdzie\n",
      "< |451| Nie znam i z niego wydobyć nie mogę.\n",
      "> |451| Nie znam i z niego nie mogę.\n",
      "< |456| Wybadywał żeś go jakim sposobem?\n",
      "> |456| żeś go jakim ?\n",
      "< |462| Lecz on jedyny powiernik swych smutków.\n",
      "> |462| Lecz on jedyny powiernik smutków.\n",
      "< |463| Tak jest wierny, tak zamknięty w sobie,\n",
      "< |464| Od otwartości wszelkiej tak daleki\n",
      "< |465| Jak pączek kwiatu, co go robak gryzie,\n",
      "> |463| Tak im jest wierny, tak zamknięty w sobie,\n",
      "> |464| Od otwartości wszelkiej tak daleki\n",
      "> |465| Jak pączek kwiatuco go robak gryzie,\n",
      "< |466| Nim światu wonny swój kielich roztoczył\n",
      "> |466| Nim światu swój kielich roztoczył\n",
      "< |471| / ukazuje się w głębi. /\n",
      "> |471| / Romeo ukazuje się w głębi. /\n",
      "< |476| Oto nadchodzi. Odstąpcie na stronę;\n",
      "> |476| Oto . na stronę;\n",
      "< |482| Obyś w tej sprawie, co serce rani,\n",
      "> |482| Obyś w tej sprawie, co nam serce rani,\n",
      "< |491| \n",
      "> |493| ROMEO\n",
      "< |507| Tak spiesznie w tamtą zboczyli ?\n",
      "> |507| Tak spiesznie w tamtą zboczyli ulicę?\n",
      "< |512| Tak jest. Lecz cóż tak chwile twoje dłuży?\n",
      "> |512| Tak jest. Lecz cóż tak chwile twoje dłuży\n",
      "< |517| Nieposiadanie , co je skraca.\n",
      "> |517| Nieposiadanie tego, co je skraca.\n",
      "< |537| Brak jej tam, skąd bym pragnął wzajemności.\n",
      "> |537| Brak jej tam, skąd wzajemności\n",
      "< |550| Gdzież dziś jeść będziem? Ach! Był tu podobno\n",
      "> |550| Gdzież dziś jeść będziem? ! Był tu podobno\n",
      "< |556| Odpychająca! Poważna !\n",
      "> |556| Odpychająca! Poważna pustoto!\n",
      "< |557| Szpetny chaosie wdzięków! Ciężki puchu!\n",
      "< |558| Jasna mgło! Zimny żarze! Martwy !\n",
      "> |557| Szpetny chaosie wdzięków! Ciężki puchu!\n",
      "> |558| Jasna mgło! Zimny żarze! Martwy ruchu!\n",
      "< |559| Śnie bez snu! Taką to w sobie zawiłość,\n",
      "< |560| Taką niełączność łączy moja miłość.\n",
      "> |559| Śnie bez snu! Taką w sobie zawiłość,\n",
      "> |560| Taką łączy moja miłość.\n",
      "< |566|                         Nie, płakałbym raczej.\n",
      "> |566|                         Nie, płakałbym raczej\n",
      "< |586| Współczucie twoje moim cierpieniem\n",
      "> |586| Współczucie twoje nad moim cierpieniem\n",
      "< |593| Żółcią trawiącą i zbawczym balsamem\n",
      "> |593| Żółcią trawiącą i zbawczym balsamem.\n",
      "< |594| Bądź zdrów.\n",
      "> |594| Bądź .\n",
      "< |602| Gdybyś mą przyjaźń z tak zostawił.\n",
      "> |602| Gdybyś mą przyjaźń z kwitkiem tak \n",
      "< |607| Ach! ja jestem tu, nie jestem sobą;\n",
      "> |607| Ach! ja nie jestem tu, nie jestem sobą;\n",
      "< |624|                         jęczyć,\n",
      "> |624|                         Nie jęczyć,\n",
      "< |637| BENWOLIO\n",
      "> |637| \n",
      "< |645| celujesz. I ta, którą kocham,\n",
      "> |645| Biegle celujesz. I ta, którą kocham,\n",
      "< |651|                         W piękny cel najłatwiej.\n",
      "> |651|                         W piękny cel trafić najłatwiej.\n",
      "< |659| Grotów miłości wcale się nie boi;\n",
      "> |659| Grotów miłości wcale się boi;\n",
      "< |660| Szydzi z nawału zaklęć oblężniczych;\n",
      "< |661| Odpiera szturmy spojrzeń ;\n",
      "> |660| Szydzi z nawału zaklęć oblężniczych;\n",
      "> |661| Odpiera szturmy spojrzeń napastniczych;\n",
      "< |662| Nawet jej złota wszechwładztwo nie zjedna.\n",
      "< |663| Bogata w wdzięki, w tym ,\n",
      "> |662| Nawet jej złota wszechwładztwo nie zjedna.\n",
      "> |663| Bogata w wdzięki, w tym jedynie biedna,\n",
      "< |664| Że kiedy umrzedo grobu z nią zstąpi\n",
      "> |664| Że kiedy umrze, do grobu z nią zstąpi\n",
      "< |675| Tak jest; i skąpstwo to jest marnotrawstwem,\n",
      "> |675| Tak jesti skąpstwo to jest marnotrawstwem,\n",
      "< |678| Zbyt piękna, zbyt mądra zarazem;\n",
      "> |678| Zbyt ona , zbyt mądra zarazem;\n",
      "< |681| Temu skazanym wieczne cierpieć męki.\n",
      "> |681| Temu skazanym - wieczne cierpieć męki.\n",
      "< |686| Jest na to rada: przestań myśleć o niej.\n",
      "> |686| Jest na to rada: przestań o niej.\n",
      "< |692| Mógł przestać myśleć.\n",
      "> |692| Mógł przestać .\n",
      "< |697|                         Dając oczom wolność\n",
      "> |697|                         Dając wolność\n",
      "< |698| Rozpatrywania się w innych pięknościach.\n",
      "> |698| Rozpatrywania się w pięknościach.\n"
     ]
    }
   ],
   "source": [
    "with open('variant1.txt', mode='r', encoding='utf-8') as file:\n",
    "    lines1 = file.read().splitlines()\n",
    "with open('variant2.txt', mode='r', encoding='utf-8') as file:\n",
    "    lines2 = file.read().splitlines()\n",
    "\n",
    "show_diff(lines1, lines2)"
   ]
  }
 ],
 "metadata": {
  "kernelspec": {
   "display_name": "Python 3 (ipykernel)",
   "language": "python",
   "name": "python3"
  },
  "language_info": {
   "codemirror_mode": {
    "name": "ipython",
    "version": 3
   },
   "file_extension": ".py",
   "mimetype": "text/x-python",
   "name": "python",
   "nbconvert_exporter": "python",
   "pygments_lexer": "ipython3",
   "version": "3.9.7"
  }
 },
 "nbformat": 4,
 "nbformat_minor": 5
}
