{
 "cells": [
  {
   "cell_type": "code",
   "execution_count": 1,
   "id": "8db0b92c",
   "metadata": {},
   "outputs": [],
   "source": [
    "import spacy\n",
    "from random import random\n",
    "from bisect import bisect"
   ]
  },
  {
   "cell_type": "markdown",
   "id": "3e3d9c23",
   "metadata": {},
   "source": [
    "# Lab 04 - Edit distance"
   ]
  },
  {
   "cell_type": "markdown",
   "id": "87a57249",
   "metadata": {},
   "source": [
    "### Implementacja algorytmu wyznaczania odległości edycyjnej wraz z odtworzonymi krokami"
   ]
  },
  {
   "cell_type": "code",
   "execution_count": 2,
   "id": "2c5f03ca",
   "metadata": {},
   "outputs": [],
   "source": [
    "def delta(a, b):\n",
    "    return 0 if a == b else 1\n",
    "\n",
    "def edit_distance(x, y, delta, show_answer = False):\n",
    "    m = len(x)\n",
    "    n = len(y)\n",
    "    table = [[0]*(n+1) for _ in range(m+1)]\n",
    "    \n",
    "    for i in range(m+1):\n",
    "        table[i][0] = i\n",
    "    \n",
    "    for i in range(n+1):\n",
    "        table[0][i] = i\n",
    "    \n",
    "    for i in range(1, m+1):\n",
    "        for j in range(1, n+1):\n",
    "            table[i][j] = min(table[i-1][j] + 1, table[i][j-1]+1, table[i-1][j-1] + delta(x[i-1], y[j-1]))\n",
    "    \n",
    "    if show_answer:\n",
    "        return([x + ' -> ' + y, '-'*(len(x) + len(y) + 4)] + get_solution(table, x, y, m, n))\n",
    "    return table[m][n]\n",
    "    \n",
    "def get_solution(table, s1, s2, i, j):\n",
    "    if table[i][j] == 0:\n",
    "        return []\n",
    "    \n",
    "    if i == 0:\n",
    "        step = s1 + ' -> ' + '|' + s2[j-1] + '|' + s1\n",
    "        s1 = s2[j-1] + s1\n",
    "        return [step] + get_solution(table, s1, s2, i, j-1)\n",
    "    elif j == 0:\n",
    "        step = s1 + '->' + s1[:-1] + '_'\n",
    "        s1 = s1[:-1]\n",
    "        return [step] + get_solution(table, s1, s2, i-1, j) \n",
    "    else:\n",
    "        if table[i][j] == table[i-1][j] + 1:\n",
    "            step = s1 + ' -> ' + s1[:i-1] + '_' + s1[i:]\n",
    "            s1 = s1[:i-1] + s1[i:]\n",
    "            return [step] + get_solution(table, s1, s2, i-1, j)\n",
    "        elif table[i][j] == table[i][j-1] + 1:\n",
    "            step = s1 + ' -> ' + s1[:i] + '|' + s2[j-1] + '|' + s1[i:]\n",
    "            s1 = s1[:i] + s2[j-1] + s1[i:]\n",
    "            return [step] + get_solution(table, s1, s2, i, j-1)\n",
    "\n",
    "        if s1[i-1] == s2[j-1]:\n",
    "            return get_solution(table, s1, s2, i-1, j-1)\n",
    "        \n",
    "        step = s1 + ' -> ' + s1[:i-1] + '*' + s2[j-1] + '*' + s1[i:]\n",
    "        s1 = s1[:i-1] + s2[j-1] + s1[i:]\n",
    "        return  [step] + get_solution(table, s1, s2, i-1, j-1)"
   ]
  },
  {
   "cell_type": "code",
   "execution_count": 3,
   "id": "b8a38378",
   "metadata": {},
   "outputs": [
    {
     "name": "stdout",
     "output_type": "stream",
     "text": [
      "los -> kloc\n",
      "-----------\n",
      "los -> lo*c*\n",
      "loc -> |k|loc\n"
     ]
    }
   ],
   "source": [
    "for line in edit_distance('los', 'kloc', delta, True):\n",
    "    print(line)"
   ]
  },
  {
   "cell_type": "code",
   "execution_count": 4,
   "id": "b8eed3d1",
   "metadata": {},
   "outputs": [
    {
     "name": "stdout",
     "output_type": "stream",
     "text": [
      "Łódź -> Lodz\n",
      "------------\n",
      "Łódź -> Łód*z*\n",
      "Łódz -> Ł*o*dz\n",
      "Łodz -> *L*odz\n"
     ]
    }
   ],
   "source": [
    "for line in edit_distance('Łódź', 'Lodz', delta, True):\n",
    "    print(line)"
   ]
  },
  {
   "cell_type": "code",
   "execution_count": 5,
   "id": "9c668b1a",
   "metadata": {},
   "outputs": [
    {
     "name": "stdout",
     "output_type": "stream",
     "text": [
      "kwintesencja -> quintessence\n",
      "----------------------------\n",
      "kwintesencja -> kwintesencj_\n",
      "kwintesencj -> kwintesenc*e*\n",
      "kwintesence -> kwintes|s|ence\n",
      "kwintessence -> k*u*intessence\n",
      "kuintessence -> *q*uintessence\n"
     ]
    }
   ],
   "source": [
    "for line in edit_distance('kwintesencja', 'quintessence', delta, True):\n",
    "    print(line)"
   ]
  },
  {
   "cell_type": "code",
   "execution_count": 6,
   "id": "3e20f472",
   "metadata": {},
   "outputs": [
    {
     "name": "stdout",
     "output_type": "stream",
     "text": [
      "ATGAATCTTACCGCCTCG -> ATGAGGCTCTGGCCCCTG\n",
      "----------------------------------------\n",
      "ATGAATCTTACCGCCTCG -> ATGAATCTTACCGCCT_G\n",
      "ATGAATCTTACCGCCTG -> ATGAATCTTACC_CCTG\n",
      "ATGAATCTTACCCCTG -> ATGAATCTTA|G|CCCCTG\n",
      "ATGAATCTTAGCCCCTG -> ATGAATCTT*G*GCCCCTG\n",
      "ATGAATCTTGGCCCCTG -> ATGAATCT|C|TGGCCCCTG\n",
      "ATGAATCTCTGGCCCCTG -> ATGAA*G*CTCTGGCCCCTG\n",
      "ATGAAGCTCTGGCCCCTG -> ATGA*G*GCTCTGGCCCCTG\n"
     ]
    }
   ],
   "source": [
    "for line in edit_distance('ATGAATCTTACCGCCTCG', 'ATGAGGCTCTGGCCCCTG', delta, True):\n",
    "    print(line)"
   ]
  },
  {
   "cell_type": "markdown",
   "id": "a043e17f",
   "metadata": {},
   "source": [
    "### Implementacja algorytmu znajdowania maksymalnego wspólnego podciągu"
   ]
  },
  {
   "cell_type": "code",
   "execution_count": 7,
   "id": "5b11076e",
   "metadata": {},
   "outputs": [],
   "source": [
    "def longest_common_sequence(x, y):\n",
    "    ranges = [len(y)]\n",
    "    y_letters = list(y)\n",
    "    for i in range(len(x)):\n",
    "        positions = [j for j, l in enumerate(y_letters) if l == x[i]]\n",
    "        positions.reverse()\n",
    "        for p in positions:\n",
    "            k = bisect(ranges, p)\n",
    "            if k == bisect(ranges, p - 1):\n",
    "                if k < len(ranges) - 1:\n",
    "                    ranges[k] = p\n",
    "                else:\n",
    "                    ranges[k:k] = [p]\n",
    "    return len(ranges) - 1"
   ]
  },
  {
   "cell_type": "code",
   "execution_count": 8,
   "id": "bcc847a3",
   "metadata": {},
   "outputs": [
    {
     "name": "stdout",
     "output_type": "stream",
     "text": [
      "Najdłuższy wspólny podciąg słów los i kloc ma długość: 2\n"
     ]
    }
   ],
   "source": [
    "print('Najdłuższy wspólny podciąg słów los i kloc ma długość: {}'\n",
    "     .format(longest_common_sequence('los', 'kloc')))"
   ]
  },
  {
   "cell_type": "code",
   "execution_count": 9,
   "id": "42f5e784",
   "metadata": {},
   "outputs": [
    {
     "name": "stdout",
     "output_type": "stream",
     "text": [
      "Najdłuższy wspólny podciąg słów Łódź i Lodz ma długość: 1\n"
     ]
    }
   ],
   "source": [
    "print('Najdłuższy wspólny podciąg słów Łódź i Lodz ma długość: {}'\n",
    "     .format(longest_common_sequence('Łódź', 'Lodz')))"
   ]
  },
  {
   "cell_type": "code",
   "execution_count": 10,
   "id": "673bc3e3",
   "metadata": {},
   "outputs": [
    {
     "name": "stdout",
     "output_type": "stream",
     "text": [
      "Najdłuższy wspólny podciąg słów kwintesencja i quintessence ma długość: 8\n"
     ]
    }
   ],
   "source": [
    "print('Najdłuższy wspólny podciąg słów kwintesencja i quintessence ma długość: {}'\n",
    "     .format(longest_common_sequence('kwintesencja', 'quintessence')))"
   ]
  },
  {
   "cell_type": "code",
   "execution_count": 11,
   "id": "cc193e84",
   "metadata": {},
   "outputs": [
    {
     "name": "stdout",
     "output_type": "stream",
     "text": [
      "Najdłuższy wspólny podciąg słów ATGAATCTTACCGCCTCG i ATGAGGCTCTGGCCCCTG ma długość: 13\n"
     ]
    }
   ],
   "source": [
    "print('Najdłuższy wspólny podciąg słów ATGAATCTTACCGCCTCG i ATGAGGCTCTGGCCCCTG ma długość: {}'\n",
    "     .format(longest_common_sequence('ATGAATCTTACCGCCTCG', 'ATGAGGCTCTGGCCCCTG')))"
   ]
  },
  {
   "cell_type": "markdown",
   "id": "4cf0e9e4",
   "metadata": {},
   "source": [
    "### Podział tekstu na tokeny i usunięcie 3% tokenów"
   ]
  },
  {
   "cell_type": "code",
   "execution_count": 12,
   "id": "6bcf94f0",
   "metadata": {},
   "outputs": [],
   "source": [
    "def text_with_removed_tokens(doc : spacy.tokens.Doc, tokens_to_delete : float):\n",
    "    reduced_text = []\n",
    "    \n",
    "    for token in doc:\n",
    "        if random() > tokens_to_delete :\n",
    "            reduced_text += [token.text_with_ws]\n",
    "        else:\n",
    "            cnt = token.text_with_ws.count('\\n')\n",
    "            for _ in range(cnt):\n",
    "                reduced_text += ['\\n']\n",
    "            \n",
    "    return reduced_text"
   ]
  },
  {
   "cell_type": "code",
   "execution_count": 13,
   "id": "2a4e4834",
   "metadata": {},
   "outputs": [
    {
     "name": "stdout",
     "output_type": "stream",
     "text": [
      "Ilość tokenów na które został podzielony tekst: 2699\n",
      "Ilość tokenów usuniętych z pierwszej wersji podziału: 51\n",
      "Ilość tokenów usuniętych z drugiej wersji podziału: 53\n",
      "Najdłuższy wspólny podciąg tokenów: 2564\n"
     ]
    }
   ],
   "source": [
    "with open('romeo-i-julia-700.txt', mode='r', encoding='utf-8') as file:\n",
    "    data = file.read()\n",
    "\n",
    "    nlp = spacy.load(\"pl_core_news_sm\")\n",
    "    doc = nlp(data)\n",
    "    reduced_text1 = text_with_removed_tokens(doc, 0.03)\n",
    "    reduced_text2 = text_with_removed_tokens(doc, 0.03)\n",
    "    \n",
    "    \n",
    "    with open('variant1.txt', mode='w', encoding='utf-8') as save_file:\n",
    "        for token_text in reduced_text1:\n",
    "            save_file.write(token_text)\n",
    "    \n",
    "    with open('variant2.txt', mode='w', encoding='utf-8') as save_file:\n",
    "        for token_text in reduced_text2:\n",
    "            save_file.write(token_text)\n",
    "    \n",
    "    lcs = longest_common_sequence(reduced_text1, reduced_text2)\n",
    "    \n",
    "    print('Ilość tokenów na które został podzielony tekst: {}'.format(len(doc)))\n",
    "    print('Ilość tokenów usuniętych z pierwszej wersji podziału: {}'.format(len(doc) - len(reduced_text1)))\n",
    "    print('Ilość tokenów usuniętych z drugiej wersji podziału: {}'.format(len(doc) - len(reduced_text2)))\n",
    "    print('Najdłuższy wspólny podciąg tokenów: {}'.format(lcs))"
   ]
  },
  {
   "cell_type": "code",
   "execution_count": 14,
   "id": "c0236992",
   "metadata": {},
   "outputs": [],
   "source": [
    "def show_diff(x, y):\n",
    "    L = [[0 for _ in range(len(y) + 1)] for _ in range(len(x) + 1)]\n",
    "    for i in range(1, len(x) + 1):\n",
    "        for j in range(1, len(y) + 1):\n",
    "            if x[i - 1] == y[j - 1]:\n",
    "                L[i][j] = L[i - 1][j - 1] + 1\n",
    "            else:\n",
    "                L[i][j] = max(L[i - 1][j], L[i][j - 1])\n",
    "    lines = []\n",
    "    i = len(x) - 1\n",
    "    j = len(y) - 1\n",
    "    \n",
    "    while i >= 0 and j >= 0:\n",
    "        if x[i] == y[j]:\n",
    "            i, j = i-1, j-1\n",
    "        elif L[i][j-1] >= L[i-1][j]:\n",
    "            lines.append(f\"> |{j}| {y[j]}\")\n",
    "            j -= 1\n",
    "        elif L[i][j-1] < L[i-1][j]:\n",
    "            lines.append(f\"< |{i}| {x[i]}\")\n",
    "            i -= 1\n",
    "            \n",
    "    while j >= 0:\n",
    "        lines.append(f\"> |{j}| {y[j]}\")\n",
    "        j -= 1\n",
    "        \n",
    "    while i >= 0:\n",
    "        lines.append(f\"< |{i}| {x[i]}\")\n",
    "        i -= 1\n",
    "    lines.reverse()\n",
    "    for line in lines:\n",
    "        print(line)"
   ]
  },
  {
   "cell_type": "code",
   "execution_count": 15,
   "id": "6fc21049",
   "metadata": {
    "scrolled": false
   },
   "outputs": [
    {
     "name": "stdout",
     "output_type": "stream",
     "text": [
      "< |2| Romeo Julia\n",
      "> |2| Romeo i Julia\n",
      "< |11|  * PARYS — młody Weroneńczyk szlachetnego rodu, krewny księcia\n",
      "> |11|  * PARYS — młody Weroneńczyk szlachetnego rodukrewny księcia\n",
      "< |12| * MONTEKI, KAPULET — naczelnicy dwóch domów nieprzyjaznych sobie\n",
      "< |13|  * STARZEC — stryjeczny brat Kapuleta\n",
      "< |14|  * ROMEO — syn Montekiego\n",
      "> |12|  * MONTEKI, KAPULET — naczelnicy dwóch domów nieprzyjaznych sobie\n",
      "> |13|  * STARZEC — stryjeczny brat Kapuleta\n",
      "> |14|  * ROMEO — Montekiego\n",
      "< |18|  * LAURENTY ojciec franciszkanin\n",
      "> |18| * LAURENTY — ojciec franciszkanin\n",
      "< |19|  * JAN — brat z tegoż zgromadzenia\n",
      "< |20|  * BALTAZAR — służący Romea\n",
      "> |19|  * JAN — brat z tegoż zgromadzenia\n",
      "> |20|  * BALTAZAR — Romea\n",
      "< |25|  * PAŹ PARYSA\n",
      "> |25| * PAŹ PARYSA\n",
      "< |37| Rzecz odbywa się przez większą część sztuki w Weronie, przez część piątego aktu Mantui.\n",
      "> |37| Rzecz odbywa się przez większą część sztuki w Weronie, przez część piątego w Mantui.\n",
      "< |45| Dwa rody, zacne jednako i sławne \n",
      "> |45| Dwa rody, zacne jednako i sławne —\n",
      "< |50| Z łon tych dwu wrogów wzięło życie,\n",
      "> |50| Z łon tych dwu wrogów wzięło bowiem życie,\n",
      "< |53| Śmierć ich stłumiła rodzicielskie boje.\n",
      "> |53| Śmierć ich rodzicielskie boje.\n",
      "< |54| \n",
      "< |55| Tej ich miłości przebieg zbyt bolesny\n",
      "> |54| \n",
      "> |55| Tej ich miłości przebieg zbyt \n",
      "< |56| I jak się ojców nienawiść nie zmienia,\n",
      "< |57| Aż ją zakończy dzieci zgon przedwczesny,\n",
      "> |56| I jak się ojców nienawiść nie zmienia,\n",
      "> |57| Aż ją zakończy dzieci przedwczesny,\n",
      "< |61| Jest w nim co złego, my usuniem błędy…\n",
      "> |61| Jest w nim co , my usuniem błędy…\n",
      "< |72| / Plac publiczny. Wchodzą Samson i Grzegorz uzbrojeni w tarcze i miecze. /\n",
      "> |72| / Plac publiczny. Samson i Grzegorz uzbrojeni w tarcze i miecze. /\n",
      "< |78| \n",
      "> |80| GRZEGORZ\n",
      "< |88| \n",
      "> |90| GRZEGORZ\n",
      "< |97| Mam zwyczaj drapać zaraz, jak mię kto rozrucha.\n",
      "> |97| zwyczaj drapać zaraz, jak mię kto rozrucha.\n",
      "< |102| Tak, ale nie zwykłeś się dać rozruchać.\n",
      "> |102| Tak, ale nie zaraz zwykłeś się dać rozruchać.\n",
      "< |112| Rozruchać się tyle znaczy co ruszyć się z ; być walecznym jest to stać nieporuszenie: pojmuję , że skutkiem rozruchania się twego będzie - drapnięcie.\n",
      "> |112| Rozruchać się tyle znaczy co ruszyć się z miejsca; być walecznym jest to stać nieporuszenie: pojmuję , że skutkiem rozruchania się twego będzie - drapnięcie.\n",
      "< |117| Te psy z domu Montekich rozruchać mię mogą tylko stania na miejscu. Będę jak dla każdego mężczyzny i każdej kobiety z tego domu.\n",
      "> |117| Te psy z domu Montekich rozruchać mię mogą tylko do stania na miejscu. Będę jak mur dla każdego mężczyzny i każdej kobiety z tego .\n",
      "< |127| Prawda, dlatego to kobiety, jako najsłabsze, tulą się zawsze do muru. Ja odtrącę od muru ludzi Montekich, a kobiety Montekich przyprę do muru.\n",
      "> |127| Prawda, dlatego to kobiety, jako najsłabsze, tulą się zawsze do muru. Ja też odtrącę od muru ludzi Montekich, a kobiety Montekich do muru.\n",
      "< |152| Tym lepiej, że się liczysz do zwierząt; bo gdybyś się liczył do ryb, to byłbyś pewnie sztokfiszem. Weź no się za instrument, bo oto nadchodzi dwóch domowników Montekiego.\n",
      "> |152| Tym lepiej, że się liczysz do zwierząt; bo gdybyś się liczył do , to byłbyś pewnie sztokfiszem. Weź no się za instrument, bo oto nadchodzi domowników .\n",
      "< |159| Mój giwer już dobyty: zaczep ich, ja stanę z tyłu.\n",
      "> |159| Mój już dobyty: zaczep ich, ja stanę z tyłu.\n",
      "< |174| Ja bym się miał bać z twojej przyczyny!\n",
      "> |174| Ja bym się miał z twojej przyczyny!\n",
      "< |189| Nie chcą, ale jak śmią. Ja im gębę wykrzywię; hańba im, jeśli to ścierpią.\n",
      "> |189| Nie jak chcą, ale jak śmią. Ja im gębę ; hańba im, jeśli to ścierpią.\n",
      "< |200| \n",
      "> |202| ABRAHAM\n",
      "> |204| Czy na nas się skrzywiłeś, mości panie?\n",
      "< |204| Czy na nas się skrzywiłeś, panie?\n",
      "< |211| Będziemy–ż mieli prawo sobą, jak powiem: tak jest?\n",
      "> |211| Będziemy–ż mieli prawo za sobą, jak powiem: tak jest?\n",
      "< |216| .\n",
      "> |216| Nie.\n",
      "< |221| Nie, mości panie; nie skrzywiłem na was, tylko skrzywiłem się tak sobie.\n",
      "> |221| Nie, mości panie; nie skrzywiłem się na was, tylko skrzywiłem się tak sobie.\n",
      "< |228| waść szukasz?\n",
      "> |228| Zaczepki szukasz?\n",
      "< |233| Zaczepki? nie.\n",
      "> |233| Zaczepkinie.\n",
      "< |238| Jeżeli jej szukasz, jestem na waścine usługi. Mój pan tak dobry jak i wasz.\n",
      "> |238| Jeżeli jej szukasz, to jestem na waścine usługi. Mój pan tak dobry jak i wasz.\n",
      "< |257| Powiedz: lepszy. Oto nadchodzi z krewnych mego pana.\n",
      "> |257| Powiedz: lepszy. Oto nadchodzi jeden z krewnych mego pana.\n",
      "< |272| Dobądźcie mieczów, macie serca. Grzegorzu, pamiętaj o swoim pchnięciu.\n",
      "> |272| Dobądźcie mieczów, jeśli macie serca. Grzegorzu, pamiętaj o swoim pchnięciu.\n",
      "< |277| Odstąpcie, głupcy; schowajcie miecze . Sami nie wiecie, robicie.\n",
      "> |277| Odstąpcie, głupcy; schowajcie miecze do pochew. nie wiecie, co robicie.\n",
      "< |281| / Wchodzi Tybalt. /\n",
      "> |281| Wchodzi Tybalt. /\n",
      "< |290| BENWOLIO\n",
      "> |290| \n",
      "< |299| Tego wyrazu, tak jak nienawidzę\n",
      "> |299| wyrazu, tak jak nienawidzę\n",
      "< |300| Szatana, wszystkich Montekich i ciebie.\n",
      "< |301| Broń się, nikczemny tchórzu.\n",
      "< |302| \n",
      "< |303| / Walczą. Nadchodzi kilku przyjaciół obu partii mieszają się do zwady; wkrótce potem wchodzą mieszczanie z pałkami. \n",
      "> |300| Szatanawszystkich Montekich i ciebie.\n",
      "> |301| Broń sięnikczemny tchórzu.\n",
      "> |302| \n",
      "> |303| Walczą. Nadchodzi kilku przyjaciół obu partii i mieszają się zwady; wkrótce potem wchodzą mieszczanie z pałkami. /\n",
      "< |308| Hola! berdyszów! pałek! Dalej po !\n",
      "> |308| Hola! berdyszów! pałek! Dalej po nich!\n",
      "< |317| Mój mieczhej!\n",
      "> |317| Mój miecz! hej!\n",
      "< |351| Zapamiętali niesforni poddani,\n",
      "> |351| niesforni poddani,\n",
      "< |356| Pod karą tortur wypuśćcie natychmiast\n",
      "> |356| karą tortur wypuśćcie natychmiast\n",
      "< |357| Z dłoni skrwawionych tę broń buntowniczą\n",
      "< |358| I posłuchajcie tego, co niniejszym\n",
      "> |357| Z dłoni skrwawionych tę broń buntowniczą\n",
      "> |358| I tego, co niniejszym\n",
      "< |362| Trzykroć już spokój miasta zakłóciły,\n",
      "> |362| Trzykroć spokój miasta zakłóciły,\n",
      "< |363| Tak że poważni wiekiem i zasługą\n",
      "< |364| Obywatele werońscy musieli\n",
      "> |363| Tak że poważni wiekiem i zasługą\n",
      "> |364| Obywatele musieli\n",
      "< |365| Porzucić swoje wygodne przybory\n",
      "> |365| Porzucić wygodne przybory\n",
      "< |368| Niechęci wasze przecinać. Jeżeli\n",
      "> |368| Niechęci wasze przecinaćJeżeli\n",
      "< |375| Dalsza ma wola oznajmiona będzie.\n",
      "> |375| Dalsza ma wola oznajmiona będzie\n",
      "< |376| Jeszcze raz wzywam tu obecnych\n",
      "< |377| Pod karą śmierci, się rozeszli.\n",
      "< |378| \n",
      "< |379| / Książę z orszakiem wychodzi. Podobnież Kapulet, Pani Kapulet, Tybalt, obywatele i słudzy/\n",
      "> |376| Jeszcze raz wzywam wszystkich tu obecnych\n",
      "> |377| Pod karą śmierci, aby się rozeszli.\n",
      "> |378| \n",
      "> |379| / Książę z orszakiem wychodzi. Podobnież Kapulet, Pani Kapulet, Tybalt, obywatele i słudzy. /\n",
      "< |384| Kto wszczął tę nową zwadę? Mów, synowcze,\n",
      "> |384| Kto wszczął tę nową zwadę? , synowcze,\n",
      "< |394| I harde zionąc w uszy wyzwanie,\n",
      "> |394| I harde zionąc mi w uszy wyzwanie,\n",
      "< |395| Jął się wywijać nim i siec powietrze,\n",
      "> |395| Jął się nim i siec powietrze,\n",
      "< |398| Cięcia i pchnięcia zamieniali, zbiegł się\n",
      "> |398| Cięcia i pchnięcia zamienializbiegł się\n",
      "< |416| Tam, już tak , syn wasz się przechadzał.\n",
      "> |416| Tam, już tak rano, syn wasz się przechadzał.\n",
      "< |417| Ledwiem go ujrzał, pobiegłem ku niemu;\n",
      "< |418| Lecz on, spostrzegłszy , skrył natychmiast\n",
      "< |419| I w najciemniejszej ukrył się gęstwinie.\n",
      "< |420| Pociąg jego do \n",
      "> |417| Ledwiem go ujrzał, pobiegłem niemu;\n",
      "> |418| Lecz on, spostrzegłszy mię, skrył się natychmiast\n",
      "> |419| I w najciemniejszej ukrył się gęstwinie.\n",
      "> |420| Pociąg ten do odosobnienia\n",
      "< |421| Mierząc mym własnym (serce nasze bowiem\n",
      "< |422| Jest najczynniejsze, kiedyśmy samotni),\n",
      "> |421| Mierząc mym własnym (serce nasze bowiem\n",
      "> |422| Jest najczynniejsze, kiedyśmy samotni,\n",
      "< |425| Stroniąc od tego, co rad mnie unikał.\n",
      "> |425| od tego, co rad mnie unikał.\n",
      "< |434| słońce sprzed łoża \n",
      "> |434| Wesołe słońce sprzed łoża Aurory\n",
      "< |435| Zaczęło ściągać cienistą kotarę,\n",
      "< |436| On, uciekając od widoku światła,\n",
      "> |435| Zaczęło ściągać cienistą kotarę,\n",
      "> |436| Onuciekając widoku światła,\n",
      "< |441| Jeśli się na to lekarstwo nie .\n",
      "> |441| Jeśli się na to lekarstwo nie znajdzie.\n",
      "< |462| Lecz on jedyny powiernik swych smutków.\n",
      "> |462| Lecz on powiernik swych smutków.\n",
      "< |463| Tak im jest wierny, tak zamknięty w ,\n",
      "> |463| Tak im jest wierny, tak zamknięty w sobie,\n",
      "< |469| zbrakłoby nam zaradczego środka.\n",
      "> |469| Nie zbrakłoby nam zaradczego środka.\n",
      "< |482| Obyś w tej sprawie, co nam serce ,\n",
      "> |482| Obyś w tej sprawie, co nam serce rani\n",
      "< |488| BENWOLIO\n",
      "> |488| \n",
      "< |505|                         Jak nudnie\n",
      "> |505| Jak nudnie\n",
      "< |506| Wloką się chwile. Moi–ż to rodzice\n",
      "< |507| Tak spiesznie w tamtą ulicę?\n",
      "> |506| Wloką się chwile. Moi–ż to rodzice\n",
      "> |507| Tak spiesznie w tamtą zboczyli ulicę?\n",
      "< |522| Miłość więc?\n",
      "> |522| Miłość ?\n",
      "< |548| Niestety! Czemuż, z zasłoną na skroni,\n",
      "> |548| Niestety! Czemuż, z na skroni,\n",
      "< |551| Jakiś spór? Nie mów mi o nim, wiem wszystko.\n",
      "> |551| Jakiś spór? Nie mów mi o , wiem wszystko.\n",
      "< |552| W grze tu nienawiść wielka, lecz i miłość.\n",
      "< |553| O! wy sprzeczności niepojęte !\n",
      "> |552| W grze tu nienawiść wielka, lecz i miłość.\n",
      "> |553| O! wy sprzeczności niepojęte dziwa!\n",
      "< |557| Szpetny chaosie wdzięków! Ciężki puchu!\n",
      "> |557| Szpetny wdzięków! Ciężki puchu!\n",
      "< |558| Jasna mgło! Zimny żarzeMartwy ruchu!\n",
      "> |558| Jasna mgło! Zimny żarze! Martwy ruchu!\n",
      "< |561| Czy się nie śmiejesz?\n",
      "> |561| Czy się śmiejesz?\n",
      "< |571| Nad czym, poczciwa duszo?\n",
      "> |571| Nad czympoczciwa duszo?\n",
      "< |582|                         A więc strzała\n",
      "> |582| A więc strzała\n",
      "< |583| Miłości nawet przez odbitkę działa?\n",
      "< |584| Dość mi już ciężył mój smutek, jego\n",
      "> |583| Miłości nawet przez odbitkę działa?\n",
      "> |584| Dość mi już ciężył mój smutek, ty jego\n",
      "< |587| Nie ulgą, ale nowym jest kamieniem\n",
      "> |587| ulgą, nowym jest kamieniem\n",
      "< |588| Dla mego serca. Miłość, przyjacielu,\n",
      "< |589| To dym, co z westchnień się unosi;\n",
      "> |588| Dla mego serca. Miłość, przyjacielu,\n",
      "> |589| To dym, co z parą westchnień się unosi;\n",
      "< |592| Czymże jest więcej? Istnym amalgamem,\n",
      "> |592| jest więcejIstnym amalgamem,\n",
      "< |614| \n",
      "> |616| ROMEO\n",
      "< |619| Mam–że wraz jęczyć mówić?\n",
      "> |619| Mam–że wraz jęczyć i mówić?\n",
      "< |626| Kogóż to kochasz? Powiedz.\n",
      "> |626| Kogóż to kochaszPowiedz.\n",
      "< |632| Pisać testament: będzie–ż to wezwanie\n",
      "> |632| Pisać : będzie–ż to wezwanie\n",
      "< |640| Gdym to , nimeś mi powierzył.\n",
      "> |640| Gdym to pomyślał, nimeś mi powierzył.\n",
      "< |649| BENWOLIO\n",
      "> |649| \n",
      "< |661| Odpiera szturmy spojrzeń napastniczych\n",
      "> |661| Odpiera szturmy spojrzeń napastniczych;\n",
      "< |681| Temu skazanym - wieczne cierpieć męki.\n",
      "> |681| Temu skazanym - wieczne cierpieć \n",
      "< |686| Jest na to radaprzestań myśleć o niej.\n",
      "> |686| Jest na to rada: przestań myśleć o niej.\n"
     ]
    }
   ],
   "source": [
    "with open('variant1.txt', mode='r', encoding='utf-8') as file:\n",
    "    lines1 = file.read().splitlines()\n",
    "with open('variant2.txt', mode='r', encoding='utf-8') as file:\n",
    "    lines2 = file.read().splitlines()\n",
    "\n",
    "show_diff(lines1, lines2)"
   ]
  },
  {
   "cell_type": "code",
   "execution_count": null,
   "id": "c8113978",
   "metadata": {},
   "outputs": [],
   "source": []
  }
 ],
 "metadata": {
  "kernelspec": {
   "display_name": "Python 3 (ipykernel)",
   "language": "python",
   "name": "python3"
  },
  "language_info": {
   "codemirror_mode": {
    "name": "ipython",
    "version": 3
   },
   "file_extension": ".py",
   "mimetype": "text/x-python",
   "name": "python",
   "nbconvert_exporter": "python",
   "pygments_lexer": "ipython3",
   "version": "3.9.7"
  }
 },
 "nbformat": 4,
 "nbformat_minor": 5
}
